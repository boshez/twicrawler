{
 "cells": [
  {
   "cell_type": "code",
   "execution_count": 1,
   "metadata": {},
   "outputs": [],
   "source": [
    "import tweepy\n",
    "import urllib.request\n",
    "import pickle\n",
    "import matplotlib.pyplot as plt\n",
    "% matplotlib inline\n",
    "\n",
    "import config\n",
    "import twicrawler"
   ]
  },
  {
   "cell_type": "code",
   "execution_count": 2,
   "metadata": {
    "collapsed": true
   },
   "outputs": [],
   "source": [
    "auth = tweepy.OAuthHandler(config.consumer_key, config.consumer_secret)\n",
    "auth.set_access_token(config.access_token_key, config.access_token_secret)\n",
    "api = tweepy.API(auth)"
   ]
  },
  {
   "cell_type": "code",
   "execution_count": 3,
   "metadata": {
    "collapsed": true
   },
   "outputs": [],
   "source": [
    "# ylecun, fchollet, goodfellow_ian, demishassabis, hardmaru\n",
    "seed = [48008938, 68746721, 775449094739197953, 1482581556, 2895499182]\n",
    "crawler = twicrawler.Crawler(seed=seed)"
   ]
  },
  {
   "cell_type": "code",
   "execution_count": null,
   "metadata": {},
   "outputs": [],
   "source": [
    "# if first time, do not run\n",
    "with open('data/crawler.bin', 'rb') as fp:\n",
    "    crawler = pickle.loads(fp.read())\n",
    "\n",
    "print('#{nodes}: %d' % crawler.graph.number_of_nodes())\n",
    "print('#{edges}: %d' % crawler.graph.number_of_edges())\n",
    "print('visited: %d' % len(crawler.visited))"
   ]
  },
  {
   "cell_type": "code",
   "execution_count": 4,
   "metadata": {
    "scrolled": false
   },
   "outputs": [
    {
     "name": "stdout",
     "output_type": "stream",
     "text": [
      "user_id: 775449094739197953, screen_name: goodfellow_ian\n",
      "user_id: 68746721, screen_name: fchollet\n",
      "user_id: 48008938, screen_name: ylecun\n",
      "user_id: 2895499182, screen_name: hardmaru\n",
      "user_id: 1482581556, screen_name: demishassabis\n",
      "user_id: 44196397, screen_name: elonmusk\n",
      "user_id: 14130366, screen_name: sundarpichai\n",
      "user_id: 93957809, screen_name: ericschmidt\n",
      "user_id: 2314443930, screen_name: mustafasuleymn\n",
      "user_id: 37254334, screen_name: ShaneLegg\n",
      "user_id: 20536157, screen_name: Google\n",
      "user_id: 821766660822626304, screen_name: PartnershipAI\n",
      "user_id: 130745589, screen_name: drfeifei\n",
      "user_id: 16242081, screen_name: bhorowitz\n",
      "user_id: 449588356, screen_name: Kasparov63\n",
      "user_id: 549573235, screen_name: Dominic1King\n",
      "user_id: 33838201, screen_name: googleresearch\n",
      "user_id: 86351835, screen_name: jackclarkSF\n",
      "user_id: 50095170, screen_name: lawrennd\n",
      "user_id: 292849420, screen_name: driainmurray\n",
      "user_id: 1605, screen_name: sama\n",
      "user_id: 1536811, screen_name: markoff\n",
      "user_id: 813286, screen_name: BarackObama\n",
      "user_id: 19106898, screen_name: SergeBelongie\n",
      "user_id: 16067035, screen_name: ogrisel\n",
      "user_id: 336558087, screen_name: mmaggion\n",
      "user_id: 1346838578, screen_name: BAPearlmutter\n",
      "user_id: 167346791, screen_name: mxlearn\n",
      "user_id: 29634515, screen_name: scottgray76\n",
      "user_id: 52247685, screen_name: kylebrussell\n",
      "user_id: 70482598, screen_name: AutomatonBlog\n",
      "user_id: 824302085265035264, screen_name: AltSmithsonian\n",
      "user_id: 14093707, screen_name: SFist\n",
      "user_id: 19556080, screen_name: triketora\n",
      "user_id: 38398940, screen_name: KiraRadinsky\n",
      "user_id: 517079290, screen_name: jdthamores\n",
      "user_id: 4744970022, screen_name: awjuliani\n",
      "user_id: 2339814349, screen_name: deeplearning4j\n",
      "user_id: 17673012, screen_name: veltman\n",
      "user_id: 165087499, screen_name: yi_hayakawa\n",
      "user_id: 2217099931, screen_name: ThingsWork\n",
      "user_id: 15744118, screen_name: demandrichard\n",
      "user_id: 18059134, screen_name: vtktorg\n",
      "user_id: 24111741, screen_name: nathanstoll\n",
      "user_id: 1629336979, screen_name: eholmes2003\n",
      "user_id: 595864194, screen_name: arianafenty\n",
      "user_id: 19079396, screen_name: CharlieRoseShow\n",
      "user_id: 11388132, screen_name: lessig\n",
      "user_id: 50940456, screen_name: kaifulee\n",
      "user_id: 22564445, screen_name: gsoc\n",
      "user_id: 1784181, screen_name: taavet\n",
      "user_id: 1769191, screen_name: mims\n",
      "user_id: 851753935, screen_name: salkhanacademy\n",
      "user_id: 62917505, screen_name: liliantintori\n",
      "user_id: 20963651, screen_name: seanjtaylor\n",
      "user_id: 243381107, screen_name: GooglePlay\n",
      "user_id: 20832113, screen_name: gassee\n",
      "user_id: 154864593, screen_name: eigenikos\n",
      "user_id: 26618913, screen_name: dvdhrnby\n",
      "user_id: 19864877, screen_name: natashaloder\n",
      "visited: 60\n"
     ]
    }
   ],
   "source": [
    "crawler.crawl(api=api, update_interval=5, max_itr=15*4)\n",
    "print('visited: %d' % len(crawler.visited))"
   ]
  },
  {
   "cell_type": "code",
   "execution_count": 5,
   "metadata": {
    "collapsed": true
   },
   "outputs": [],
   "source": [
    "with open('data/crawler.bin', 'wb') as fp:\n",
    "    fp.write(pickle.dumps(crawler))"
   ]
  },
  {
   "cell_type": "code",
   "execution_count": null,
   "metadata": {
    "collapsed": true
   },
   "outputs": [],
   "source": []
  }
 ],
 "metadata": {
  "kernelspec": {
   "display_name": "py36",
   "language": "python",
   "name": "py36"
  },
  "language_info": {
   "codemirror_mode": {
    "name": "ipython",
    "version": 3
   },
   "file_extension": ".py",
   "mimetype": "text/x-python",
   "name": "python",
   "nbconvert_exporter": "python",
   "pygments_lexer": "ipython3",
   "version": "3.6.1"
  }
 },
 "nbformat": 4,
 "nbformat_minor": 1
}
