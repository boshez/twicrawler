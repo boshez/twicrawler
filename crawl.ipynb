{
 "cells": [
  {
   "cell_type": "code",
   "execution_count": 67,
   "metadata": {
    "collapsed": true
   },
   "outputs": [],
   "source": [
    "import numpy as np\n",
    "import matplotlib.pyplot as plt\n",
    "% matplotlib inline\n",
    "import networkx as nx\n",
    "import tweepy\n",
    "import pickle\n",
    "import IPython.display as dp\n",
    "\n",
    "import config\n",
    "import twicrawler"
   ]
  },
  {
   "cell_type": "code",
   "execution_count": 2,
   "metadata": {
    "collapsed": true
   },
   "outputs": [],
   "source": [
    "auth = tweepy.OAuthHandler(config.consumer_key, config.consumer_secret)\n",
    "auth.set_access_token(config.access_token_key, config.access_token_secret)\n",
    "api = tweepy.API(auth)"
   ]
  },
  {
   "cell_type": "code",
   "execution_count": 3,
   "metadata": {
    "collapsed": true
   },
   "outputs": [],
   "source": [
    "# shuyo, shima__shima, TJO_datasci, hillbig, yutakashino\n",
    "seed = [3998481, 31442147, 1320611023, 12483052, 4167551]\n",
    "crawler = twicrawler.Crawler(config=config, seed=seed)"
   ]
  },
  {
   "cell_type": "code",
   "execution_count": null,
   "metadata": {
    "collapsed": true
   },
   "outputs": [],
   "source": [
    "with open('data/edges.bin', 'rb') as fp:\n",
    "    crawler.edges = pickle.loads(fp.read())\n",
    "\n",
    "with open('data/visited.bin', 'rb') as fp:\n",
    "    crawler.visited = pickle.loads(fp.read())\n",
    "\n",
    "with open('data/crawl_frontier.bin', 'rb') as fp:\n",
    "    crawler.crawl_frontier = pickle.loads(fp.read())"
   ]
  },
  {
   "cell_type": "code",
   "execution_count": 61,
   "metadata": {
    "scrolled": false
   },
   "outputs": [
    {
     "name": "stdout",
     "output_type": "stream",
     "text": [
      "user_id: 15312900, screen_name: chokudai\n",
      "user_id: 96551747, screen_name: ibaibabaibai\n",
      "user_id: 15216861, screen_name: kinaba\n",
      "user_id: 5787652, screen_name: makimoto\n",
      "user_id: 5541322, screen_name: yanbe\n",
      "user_id: 4961421, screen_name: shudo\n",
      "user_id: 16774537, screen_name: nooyosh\n",
      "user_id: 107033612, screen_name: keyakkie\n",
      "user_id: 70090278, screen_name: tetsuroito\n",
      "user_id: 8465122, screen_name: frsyuki\n",
      "user_id: 8216412, screen_name: monizuka\n",
      "user_id: 3310801, screen_name: i2k\n",
      "user_id: 73622174, screen_name: doryokujin\n",
      "user_id: 5310852, screen_name: tanakh\n",
      "user_id: 87358880, screen_name: _kohta\n",
      "user_id: 132518179, screen_name: big_wing\n",
      "user_id: 158106469, screen_name: haldaume3\n",
      "user_id: 11370182, screen_name: shiumachi\n",
      "user_id: 14459551, screen_name: kazunori_279\n",
      "user_id: 3646871, screen_name: masui\n",
      "user_id: 15774392, screen_name: maropu\n",
      "user_id: 13764222, screen_name: wakuteka\n",
      "user_id: 12721142, screen_name: mickey24\n",
      "user_id: 40576466, screen_name: tetsuyasakai\n",
      "user_id: 7217102, screen_name: imos\n",
      "user_id: 20104013, screen_name: yukihiro_matz\n",
      "user_id: 25099441, screen_name: insou\n",
      "user_id: 124383141, screen_name: jouhouken\n",
      "user_id: 5315262, screen_name: oxy\n",
      "user_id: 64646553, screen_name: ichiro_satoh\n",
      "user_id: 59962128, screen_name: ProfMatsuoka\n",
      "user_id: 67289852, screen_name: rezoolab\n",
      "user_id: 4005291, screen_name: kazuho\n",
      "user_id: 6076282, screen_name: dritoshi\n",
      "user_id: 15893163, screen_name: tonets\n",
      "user_id: 28894757, screen_name: h_okumura\n",
      "user_id: 4365941, screen_name: makeplex\n",
      "user_id: 78927579, screen_name: komatsuh\n",
      "user_id: 73101407, screen_name: m_hama\n",
      "user_id: 980724858, screen_name: berobero11\n",
      "user_id: 6516582, screen_name: takoratta\n",
      "user_id: 4426821, screen_name: fuba\n",
      "user_id: 599628731, screen_name: StatMLPapers\n",
      "user_id: 30661059, screen_name: Scaled_Wurm\n",
      "user_id: 21726745, screen_name: noricoco\n",
      "user_id: 3343131, screen_name: rkmt\n",
      "user_id: 33836629, screen_name: karpathy\n",
      "user_id: 141825136, screen_name: hidetomasuoka\n",
      "user_id: 174564998, screen_name: mitmul\n",
      "user_id: 4271551, screen_name: mrkn\n",
      "user_id: 21457289, screen_name: MSFTResearch\n",
      "user_id: 68746721, screen_name: fchollet\n",
      "user_id: 8208032, screen_name: suma90h\n",
      "user_id: 337419400, screen_name: icoxfog417\n",
      "user_id: 8241452, screen_name: tkf\n",
      "user_id: 6078772, screen_name: riywo\n",
      "user_id: 5847882, screen_name: maruyama\n",
      "user_id: 14438068, screen_name: ultraistter\n",
      "user_id: 2999423893, screen_name: namicha_1\n",
      "user_id: 16560540, screen_name: wata_orz\n",
      "user_id: 3224095153, screen_name: _waniki\n",
      "user_id: 5921072, screen_name: gusmachine\n",
      "user_id: 5335922, screen_name: hyuki\n",
      "user_id: 6762402, screen_name: yuyarin\n",
      "user_id: 6535662, screen_name: yaotti\n",
      "user_id: 63461143, screen_name: ochyai\n",
      "user_id: 731253, screen_name: miyagawa\n",
      "user_id: 9796962, screen_name: sinya8282\n",
      "user_id: 275988888, screen_name: ktrmnm\n",
      "user_id: 4579921, screen_name: yugui\n",
      "user_id: 14191747, screen_name: cpp_akira\n",
      "user_id: 99008565, screen_name: masason\n",
      "user_id: 4999921, screen_name: higepon\n",
      "user_id: 5702302, screen_name: dmikurube\n",
      "user_id: 91267548, screen_name: mooopan\n",
      "user_id: 3201061, screen_name: amachang\n",
      "user_id: 49661959, screen_name: tagomoris\n",
      "user_id: 5576192, screen_name: kuenishi\n",
      "user_id: 65609682, screen_name: kenjinote\n",
      "user_id: 12520522, screen_name: chunjp\n",
      "user_id: 3839521, screen_name: tks\n",
      "user_id: 4027691, screen_name: kmizu\n",
      "user_id: 3836261, screen_name: rui314\n",
      "user_id: 392527914, screen_name: IPSJcom\n",
      "user_id: 10704512, screen_name: takayu_k\n",
      "user_id: 81367551, screen_name: __gfx__\n",
      "user_id: 8057472, screen_name: hogelog\n",
      "user_id: 3523861, screen_name: bulkneets\n",
      "user_id: 3991031, screen_name: mzp\n",
      "user_id: 120019687, screen_name: ntddk\n",
      "user_id: 5523632, screen_name: koizuka\n",
      "user_id: 6334512, screen_name: kis\n",
      "user_id: 14749606, screen_name: Dropbox\n",
      "user_id: 2895499182, screen_name: hardmaru\n",
      "user_id: 6879202, screen_name: sotarok\n",
      "user_id: 5890212, screen_name: shinh\n",
      "user_id: 42616493, screen_name: kosaki55tea\n",
      "user_id: 11186682, screen_name: shigepong\n",
      "user_id: 3700951, screen_name: t_wada\n",
      "user_id: 40389352, screen_name: NTCIR\n",
      "user_id: 9590162, screen_name: esumii\n",
      "user_id: 3974001, screen_name: nyaxt\n",
      "user_id: 185910194, screen_name: gneubig\n",
      "user_id: 22106285, screen_name: johtani\n",
      "user_id: 47281536, screen_name: MasatakaGoto\n",
      "user_id: 3986671, screen_name: yamaz\n",
      "user_id: 4768121, screen_name: hayamiz\n",
      "user_id: 3628321, screen_name: stanaka\n",
      "user_id: 5680932, screen_name: kamipo\n",
      "user_id: 4143991, screen_name: dankogai\n",
      "user_id: 5596942, screen_name: ockeghem\n",
      "user_id: 6022992, screen_name: mirakui\n",
      "user_id: 4135891, screen_name: ymotongpoo\n",
      "user_id: 11328252, screen_name: drinami\n",
      "user_id: 3539621, screen_name: sonots\n",
      "user_id: 3295761, screen_name: otsune\n",
      "user_id: 62468251, screen_name: _ko1\n",
      "user_id: 9581222, screen_name: suztomo\n",
      "user_id: 3789291, screen_name: ono_matope\n",
      "user_id: 13334762, screen_name: github\n",
      "user_id: 3594351, screen_name: tasukuchan\n",
      "user_id: 3526691, screen_name: eto\n",
      "user_id: 3954811, screen_name: hyoshiok\n",
      "user_id: 5467132, screen_name: takano32\n",
      "user_id: 9391722, screen_name: hotchpotch\n",
      "user_id: 3811781, screen_name: yhara\n",
      "user_id: 12904902, screen_name: methane\n",
      "user_id: 41634463, screen_name: moriyoshit\n",
      "user_id: 14407731, screen_name: mizchi\n",
      "user_id: 3976781, screen_name: shot6\n",
      "user_id: 6310812, screen_name: yuroyoro\n",
      "user_id: 15081480, screen_name: sugyan\n",
      "user_id: 3783901, screen_name: masanork\n",
      "user_id: 3213261, screen_name: yoshiori\n",
      "user_id: 23426364, screen_name: sasata299\n",
      "user_id: 3314811, screen_name: Hamachiya2\n",
      "user_id: 5161091, screen_name: sora_h\n",
      "user_id: 3180341, screen_name: mattn_jp\n",
      "user_id: 4166171, screen_name: kazeburo\n",
      "user_id: 10860, screen_name: ogijun\n",
      "user_id: 6767562, screen_name: shyouhei\n",
      "user_id: 4943161, screen_name: meso\n",
      "user_id: 2149061, screen_name: fladdict\n",
      "user_id: 3270391, screen_name: kensuu\n",
      "user_id: 4053041, screen_name: takahashim\n",
      "user_id: 674383, screen_name: kentaro\n",
      "user_id: 3600081, screen_name: fshin2000\n",
      "user_id: 3627051, screen_name: jkondo\n",
      "user_id: 3978691, screen_name: shinji_kono\n",
      "user_id: 547227711, screen_name: EzoeRyou\n",
      "user_id: 4212771, screen_name: niw\n",
      "user_id: 3969281, screen_name: kakutani\n",
      "user_id: 3584601, screen_name: shi3z\n",
      "user_id: 3850041, screen_name: hirose31\n",
      "user_id: 1471531128, screen_name: tokuhirom\n",
      "user_id: 5885172, screen_name: syuu1228\n",
      "user_id: 4587741, screen_name: masuidrive\n",
      "user_id: 51442629, screen_name: Jxck_\n",
      "user_id: 2158391, screen_name: yuiseki\n",
      "user_id: 3408881, screen_name: hsbt\n",
      "user_id: 5490432, screen_name: inao\n",
      "user_id: 7080152, screen_name: TwitterJP\n",
      "user_id: 149505338, screen_name: ikeay\n",
      "user_id: 2067431, screen_name: yto\n",
      "user_id: 3580251, screen_name: gosukenator\n",
      "user_id: 3290711, screen_name: HolyGrail\n",
      "user_id: 69984927, screen_name: SamFURUKAWA\n",
      "user_id: 3278331, screen_name: zigorou\n",
      "user_id: 3598301, screen_name: Yappo\n",
      "user_id: 58427169, screen_name: mametter\n",
      "user_id: 5799402, screen_name: mootoh\n",
      "user_id: 87027640, screen_name: hiroyuki_ni\n",
      "user_id: 4375941, screen_name: hasegawayosuke\n",
      "user_id: 3575231, screen_name: os0x\n",
      "user_id: 5191991, screen_name: kirik\n",
      "user_id: 5512352, screen_name: coji\n",
      "user_id: 3290251, screen_name: onk\n",
      "user_id: 3216921, screen_name: yusukebe\n",
      "user_id: 10152332, screen_name: songmu\n",
      "user_id: 3859671, screen_name: fujiwara\n",
      "user_id: 5632552, screen_name: negipo\n",
      "user_id: 14863108, screen_name: geekpage\n",
      "user_id: 3701901, screen_name: cho45\n",
      "user_id: 5550852, screen_name: matsuu\n",
      "user_id: 608353, screen_name: ryo_grid\n",
      "user_id: 5408132, screen_name: kansai_takako\n",
      "user_id: 20463251, screen_name: nalsh\n",
      "user_id: 7111372, screen_name: voluntas\n",
      "user_id: 4909401, screen_name: VoQn\n",
      "user_id: 405374281, screen_name: r7kamura\n",
      "user_id: 4171231, screen_name: tsuda\n",
      "user_id: 25799899, screen_name: eagletmt\n",
      "user_id: 3481641, screen_name: 941\n",
      "user_id: 3581171, screen_name: Yuryu\n",
      "user_id: 3589301, screen_name: ukstudio\n",
      "user_id: 14168345, screen_name: Constellation\n",
      "user_id: 7220202, screen_name: a_matsuda\n",
      "user_id: 93311525, screen_name: NHK_PR\n",
      "user_id: 791857, screen_name: Psychs\n",
      "user_id: 3785611, screen_name: kawanet\n",
      "user_id: 4285561, screen_name: lestrrat\n",
      "user_id: 36560854, screen_name: kunihirotanaka\n",
      "user_id: 4441691, screen_name: twitt\n",
      "user_id: 3212481, screen_name: nitoyon\n",
      "user_id: 7561302, screen_name: monjudoh\n",
      "user_id: 14377354, screen_name: edvakf\n"
     ]
    },
    {
     "name": "stdout",
     "output_type": "stream",
     "text": [
      "user_id: 235544534, screen_name: rejasupotaro\n",
      "user_id: 7327292, screen_name: tdtds\n",
      "user_id: 5118121, screen_name: hmsk\n",
      "user_id: 5159931, screen_name: ssig33\n",
      "user_id: 3748631, screen_name: jugyo\n",
      "user_id: 90521746, screen_name: hmikitani\n",
      "user_id: 4653091, screen_name: hitode909\n",
      "user_id: 202062015, screen_name: udzura\n",
      "user_id: 4268871, screen_name: nari3\n",
      "user_id: 3626851, screen_name: __kan\n",
      "user_id: 3591191, screen_name: kdmsnr\n",
      "user_id: 3542731, screen_name: motemen\n",
      "user_id: 6304032, screen_name: kwappa\n",
      "user_id: 111908651, screen_name: deeeet\n",
      "user_id: 779900, screen_name: typester\n",
      "user_id: 30816923, screen_name: nippondanji\n",
      "user_id: 3408751, screen_name: hakobe\n",
      "user_id: 11448352, screen_name: ar1\n",
      "user_id: 3976351, screen_name: namikawa\n",
      "user_id: 17162411, screen_name: myfinder\n",
      "user_id: 10742632, screen_name: tmaesaka\n",
      "user_id: 3531791, screen_name: koyhoge\n",
      "user_id: 1410371, screen_name: nipotan\n",
      "user_id: 13625972, screen_name: shibukawa\n",
      "user_id: 87913252, screen_name: googledevjp\n",
      "user_id: 18331071, screen_name: HiromitsuTakagi\n",
      "user_id: 8349842, screen_name: koichiroo\n",
      "user_id: 12179682, screen_name: con_mame\n",
      "user_id: 4579301, screen_name: sugamasao\n",
      "user_id: 2922721, screen_name: nagayama\n",
      "user_id: 11436162, screen_name: hagino3000\n",
      "user_id: 4029081, screen_name: hajimehoshi\n",
      "user_id: 2388101, screen_name: june29\n",
      "user_id: 6641712, screen_name: oranie\n",
      "user_id: 8217182, screen_name: ryushi\n",
      "user_id: 3516311, screen_name: _tad_\n",
      "user_id: 15835434, screen_name: moznion\n",
      "user_id: 4169511, screen_name: pha\n",
      "user_id: 4933401, screen_name: yusuke\n",
      "user_id: 12357202, screen_name: ujm\n",
      "user_id: 39272335, screen_name: yosuke_furukawa\n",
      "user_id: 5187861, screen_name: lchin\n",
      "user_id: 11459252, screen_name: fumitoshi_ukai\n",
      "user_id: 6592592, screen_name: joker1007\n",
      "user_id: 9492602, screen_name: inohiro\n",
      "user_id: 390615409, screen_name: rosylilly\n",
      "user_id: 3395631, screen_name: ajiyoshi\n",
      "user_id: 3382331, screen_name: technohippy\n",
      "user_id: 20536157, screen_name: Google\n",
      "user_id: 224900351, screen_name: mineroaoki\n",
      "user_id: 13585812, screen_name: ayumin\n",
      "user_id: 116152551, screen_name: matsumotory\n",
      "user_id: 14591789, screen_name: KenTamagawa\n",
      "user_id: 711493, screen_name: kenn\n",
      "user_id: 44791521, screen_name: takapon_jp\n",
      "user_id: 3708951, screen_name: mopemope\n",
      "user_id: 50393960, screen_name: BillGates\n",
      "user_id: 3591521, screen_name: yohei\n",
      "user_id: 3964161, screen_name: moro\n",
      "user_id: 3224511, screen_name: ryo_katsuma\n",
      "user_id: 4862721, screen_name: gihyojp\n",
      "user_id: 3619961, screen_name: sasakitoshinao\n",
      "user_id: 18328119, screen_name: omo2009\n",
      "user_id: 10564102, screen_name: ichii386\n",
      "user_id: 16553497, screen_name: ngtyk\n",
      "user_id: 14510470, screen_name: higayasuo\n",
      "user_id: 79653056, screen_name: ishii_mit\n",
      "user_id: 3219851, screen_name: hidek\n",
      "user_id: 1091741, screen_name: akky\n",
      "user_id: 3972811, screen_name: nekop\n",
      "user_id: 7811602, screen_name: yamashiro\n",
      "user_id: 2534045701, screen_name: HigeponJa\n",
      "user_id: 13127822, screen_name: IanMLewis\n",
      "user_id: 246282403, screen_name: y_uuk1\n",
      "user_id: 3701281, screen_name: weboo\n",
      "user_id: 3837171, screen_name: agektmr\n",
      "user_id: 3321361, screen_name: kusigahama\n",
      "user_id: 4451471, screen_name: understeer\n",
      "user_id: 50461469, screen_name: tnatsu\n",
      "user_id: 3304571, screen_name: kotarok\n",
      "user_id: 7105642, screen_name: acotie\n",
      "user_id: 996871, screen_name: suadd\n",
      "user_id: 9099242, screen_name: faultier\n",
      "user_id: 3814821, screen_name: kei_s\n",
      "user_id: 3596631, screen_name: tomihisa\n",
      "user_id: 5239271, screen_name: tksohishi\n",
      "user_id: 6519462, screen_name: kyo_ago\n",
      "user_id: 12051712, screen_name: conceal_rs\n",
      "user_id: 4527351, screen_name: hokaccha\n",
      "user_id: 5428642, screen_name: yukatan\n",
      "user_id: 1849181, screen_name: ku\n",
      "user_id: 1788391, screen_name: takiuchi\n",
      "user_id: 4294181, screen_name: machu\n",
      "user_id: 93872255, screen_name: vvakame\n",
      "user_id: 6087242, screen_name: yositosi\n",
      "user_id: 2273621, screen_name: bto\n",
      "user_id: 79676005, screen_name: tkihira\n",
      "user_id: 4558871, screen_name: takkanm\n",
      "user_id: 4028481, screen_name: t_yano\n",
      "user_id: 9322452, screen_name: kaiseh\n",
      "user_id: 12549472, screen_name: masaki_fujimoto\n",
      "user_id: 12352982, screen_name: j5ik2o\n",
      "user_id: 13089332, screen_name: fd0\n",
      "user_id: 5176591, screen_name: yukawasa\n",
      "user_id: 15562743, screen_name: ryopeko\n",
      "user_id: 17675079, screen_name: 120reset\n",
      "user_id: 13006812, screen_name: hayano\n",
      "user_id: 11595582, screen_name: drillbits\n",
      "user_id: 11904742, screen_name: wadap\n",
      "user_id: 3987001, screen_name: bash0C7\n",
      "user_id: 287683, screen_name: taguchi\n",
      "user_id: 4930811, screen_name: rokujyouhitoma\n",
      "user_id: 1493091, screen_name: uzulla\n",
      "user_id: 2319425550, screen_name: shibu_jp\n",
      "user_id: 9110782, screen_name: tokibito\n",
      "user_id: 1417261, screen_name: kyanny\n",
      "user_id: 14169633, screen_name: azu_re\n",
      "user_id: 3933331, screen_name: atusi\n",
      "user_id: 4596601, screen_name: igaiga555\n",
      "user_id: 3624361, screen_name: Naney\n",
      "user_id: 680653, screen_name: Fumi\n",
      "user_id: 18828462, screen_name: ikeike443\n",
      "user_id: 72555864, screen_name: togetter_jp\n",
      "user_id: 174511656, screen_name: utadahikaru\n",
      "user_id: 1468471, screen_name: tokuriki\n",
      "user_id: 4526911, screen_name: MaripoGoda\n",
      "user_id: 7883842, screen_name: esehara\n",
      "user_id: 58166411, screen_name: echofon\n",
      "user_id: 3966821, screen_name: katzchang\n",
      "user_id: 3396921, screen_name: send_\n",
      "user_id: 8279452, screen_name: mizuno_takaaki\n",
      "user_id: 9599522, screen_name: gothedistance\n",
      "user_id: 3765751, screen_name: darashi\n",
      "user_id: 5626592, screen_name: nahi\n",
      "user_id: 5013671, screen_name: arton\n",
      "user_id: 13812652, screen_name: uiureo\n",
      "user_id: 4304091, screen_name: walf443\n",
      "user_id: 71979620, screen_name: dentomo\n",
      "user_id: 6290312, screen_name: Masahito\n",
      "user_id: 5926982, screen_name: ursm\n",
      "user_id: 3305611, screen_name: wozozo\n",
      "user_id: 46054405, screen_name: publickey\n",
      "user_id: 60818477, screen_name: matsunobu\n",
      "user_id: 5806712, screen_name: horiuchi\n",
      "user_id: 4015691, screen_name: nekoya\n",
      "user_id: 1867121, screen_name: babie\n",
      "user_id: 18864444, screen_name: bleis\n",
      "user_id: 7080042, screen_name: yando\n",
      "user_id: 2632291, screen_name: hatebu\n",
      "user_id: 1677135319, screen_name: k0kubun\n",
      "user_id: 10053762, screen_name: mayutan\n",
      "user_id: 14881883, screen_name: laiso\n",
      "user_id: 5979662, screen_name: bluerabbit777jp\n",
      "user_id: 14761655, screen_name: tenderlove\n",
      "user_id: 5287242, screen_name: znz\n",
      "user_id: 3347771, screen_name: norio\n",
      "user_id: 5797712, screen_name: m_seki\n",
      "user_id: 2799501, screen_name: junya\n",
      "user_id: 8331722, screen_name: yuumi3\n",
      "user_id: 3984751, screen_name: elim\n",
      "user_id: 13717532, screen_name: hibariya\n",
      "user_id: 8969092, screen_name: yadokarielectri\n",
      "user_id: 6609032, screen_name: ysakaki\n",
      "user_id: 7491532, screen_name: n0kada\n",
      "user_id: 3904071, screen_name: cesare\n",
      "user_id: 8206702, screen_name: anemo\n",
      "user_id: 4090161, screen_name: snoozer05\n",
      "user_id: 14910634, screen_name: sanemat\n",
      "user_id: 9274012, screen_name: cactusman\n",
      "user_id: 105472870, screen_name: yotii23\n",
      "user_id: 6198472, screen_name: maname\n",
      "user_id: 15616789, screen_name: ryuzee\n",
      "user_id: 51439619, screen_name: mamipeko\n",
      "user_id: 3747251, screen_name: yoichiro\n",
      "user_id: 17480482, screen_name: dameninngenn\n",
      "user_id: 15399993, screen_name: tatsuoSakurai\n",
      "user_id: 117209642, screen_name: RisucoMorino\n",
      "user_id: 15656336, screen_name: nay3\n",
      "user_id: 3807361, screen_name: warenosyo\n",
      "user_id: 32315802, screen_name: 2celeb\n",
      "user_id: 15647680, screen_name: ainame\n",
      "user_id: 3279441, screen_name: cheebow\n",
      "user_id: 7028812, screen_name: netwillnet\n",
      "user_id: 4702931, screen_name: kohsei\n",
      "user_id: 10354982, screen_name: maiha\n",
      "user_id: 20439858, screen_name: xaicron\n",
      "user_id: 86672236, screen_name: yuya_takeyama\n",
      "user_id: 16837387, screen_name: xga\n",
      "user_id: 3524301, screen_name: ats\n",
      "user_id: 3890191, screen_name: akio0911\n",
      "user_id: 141161453, screen_name: itoi_shigesato\n",
      "user_id: 1718681, screen_name: hkunimitsu\n",
      "user_id: 5733882, screen_name: beinteractive\n",
      "user_id: 30384934, screen_name: rubikitch\n",
      "user_id: 14561327, screen_name: dhh\n",
      "user_id: 6435642, screen_name: shugomaeda\n",
      "user_id: 19347908, screen_name: nagachika\n",
      "user_id: 3401711, screen_name: nobi\n",
      "user_id: 265205959, screen_name: Kantei_Saigai\n",
      "user_id: 15268236, screen_name: tmtms\n",
      "user_id: 19959538, screen_name: choplin\n",
      "user_id: 3958071, screen_name: kuwa_tw\n",
      "user_id: 62968355, screen_name: sunaot\n",
      "user_id: 12392332, screen_name: hbkr\n",
      "user_id: 179975600, screen_name: tanaka_akr\n"
     ]
    },
    {
     "name": "stdout",
     "output_type": "stream",
     "text": [
      "user_id: 8571452, screen_name: niku_name\n",
      "user_id: 4022881, screen_name: Nakada_itpro\n",
      "user_id: 5727032, screen_name: tmaeda\n",
      "user_id: 30881611, screen_name: uupaa\n",
      "user_id: 8964642, screen_name: shin1ogawa\n",
      "user_id: 13547192, screen_name: kunit\n",
      "user_id: 5371192, screen_name: teppeis\n",
      "user_id: 42188053, screen_name: nitro_idiot\n",
      "user_id: 813286, screen_name: BarackObama\n"
     ]
    }
   ],
   "source": [
    "crawler.crawl(update_interval=5, max_itr=15*4*7)"
   ]
  },
  {
   "cell_type": "code",
   "execution_count": 62,
   "metadata": {
    "collapsed": true
   },
   "outputs": [],
   "source": [
    "g = nx.from_edgelist(crawler.edges)\n",
    "ranks = nx.pagerank(g)"
   ]
  },
  {
   "cell_type": "code",
   "execution_count": 63,
   "metadata": {
    "scrolled": false
   },
   "outputs": [
    {
     "name": "stdout",
     "output_type": "stream",
     "text": [
      "visited: 628\n",
      "BarackObama\n"
     ]
    },
    {
     "data": {
      "text/html": [
       "<img src=\"http://pbs.twimg.com/profile_images/822547732376207360/5g0FC8XX_normal.jpg\"/>"
      ],
      "text/plain": [
       "<IPython.core.display.Image object>"
      ]
     },
     "metadata": {},
     "output_type": "display_data"
    },
    {
     "name": "stdout",
     "output_type": "stream",
     "text": [
      "cnn_co_jp\n"
     ]
    },
    {
     "data": {
      "text/html": [
       "<img src=\"http://pbs.twimg.com/profile_images/575214640356978688/C1xncmfH_normal.png\"/>"
      ],
      "text/plain": [
       "<IPython.core.display.Image object>"
      ]
     },
     "metadata": {},
     "output_type": "display_data"
    },
    {
     "name": "stdout",
     "output_type": "stream",
     "text": [
      "itmedia_news\n"
     ]
    },
    {
     "data": {
      "text/html": [
       "<img src=\"http://pbs.twimg.com/profile_images/825970721004285955/tAkGGM0s_normal.jpg\"/>"
      ],
      "text/plain": [
       "<IPython.core.display.Image object>"
      ]
     },
     "metadata": {},
     "output_type": "display_data"
    },
    {
     "name": "stdout",
     "output_type": "stream",
     "text": [
      "makeplex\n"
     ]
    },
    {
     "data": {
      "text/html": [
       "<img src=\"http://pbs.twimg.com/profile_images/83728304/susie_normal.jpg\"/>"
      ],
      "text/plain": [
       "<IPython.core.display.Image object>"
      ]
     },
     "metadata": {},
     "output_type": "display_data"
    },
    {
     "name": "stdout",
     "output_type": "stream",
     "text": [
      "kenjinote\n"
     ]
    },
    {
     "data": {
      "text/html": [
       "<img src=\"http://pbs.twimg.com/profile_images/692311031071137792/MIVGyShk_normal.png\"/>"
      ],
      "text/plain": [
       "<IPython.core.display.Image object>"
      ]
     },
     "metadata": {},
     "output_type": "display_data"
    },
    {
     "name": "stdout",
     "output_type": "stream",
     "text": [
      "sasakitoshinao\n"
     ]
    },
    {
     "data": {
      "text/html": [
       "<img src=\"http://pbs.twimg.com/profile_images/673006085192548353/h676ufd7_normal.jpg\"/>"
      ],
      "text/plain": [
       "<IPython.core.display.Image object>"
      ]
     },
     "metadata": {},
     "output_type": "display_data"
    },
    {
     "name": "stdout",
     "output_type": "stream",
     "text": [
      "tsuda\n"
     ]
    },
    {
     "data": {
      "text/html": [
       "<img src=\"http://pbs.twimg.com/profile_images/798195961851826176/xo6JN883_normal.jpg\"/>"
      ],
      "text/plain": [
       "<IPython.core.display.Image object>"
      ]
     },
     "metadata": {},
     "output_type": "display_data"
    },
    {
     "name": "stdout",
     "output_type": "stream",
     "text": [
      "NBCNews\n"
     ]
    },
    {
     "data": {
      "text/html": [
       "<img src=\"http://pbs.twimg.com/profile_images/875411730679173121/l9PSFLJb_normal.jpg\"/>"
      ],
      "text/plain": [
       "<IPython.core.display.Image object>"
      ]
     },
     "metadata": {},
     "output_type": "display_data"
    },
    {
     "name": "stdout",
     "output_type": "stream",
     "text": [
      "maname\n"
     ]
    },
    {
     "data": {
      "text/html": [
       "<img src=\"http://pbs.twimg.com/profile_images/699201581896499200/NIfeX9vQ_normal.jpg\"/>"
      ],
      "text/plain": [
       "<IPython.core.display.Image object>"
      ]
     },
     "metadata": {},
     "output_type": "display_data"
    },
    {
     "name": "stdout",
     "output_type": "stream",
     "text": [
      "cheebow\n"
     ]
    },
    {
     "data": {
      "text/html": [
       "<img src=\"http://pbs.twimg.com/profile_images/848073591895674880/fSqVHa_b_normal.jpg\"/>"
      ],
      "text/plain": [
       "<IPython.core.display.Image object>"
      ]
     },
     "metadata": {},
     "output_type": "display_data"
    }
   ],
   "source": [
    "print('visited: %d' % len(crawler.visited))\n",
    "\n",
    "for user_id in sorted(ranks, key=ranks.get, reverse=True)[:10]:\n",
    "    status = api.get_user(user_id)\n",
    "    print(status.screen_name)\n",
    "    img = dp.Image(url=status.profile_image_url)\n",
    "    dp.display(img)"
   ]
  },
  {
   "cell_type": "code",
   "execution_count": 64,
   "metadata": {},
   "outputs": [
    {
     "data": {
      "text/html": [
       "\n",
       "                <audio controls=\"controls\" autoplay=\"autoplay\">\n",
       "                    <source src=\"http://soundeffect-lab.info/sound/button/mp3/decision8.mp3\" type=\"audio/mpeg\" />\n",
       "                    Your browser does not support the audio element.\n",
       "                </audio>\n",
       "              "
      ],
      "text/plain": [
       "<IPython.lib.display.Audio object>"
      ]
     },
     "execution_count": 64,
     "metadata": {},
     "output_type": "execute_result"
    }
   ],
   "source": [
    "import IPython.display\n",
    "IPython.display.Audio(url='http://soundeffect-lab.info/sound/button/mp3/decision8.mp3', autoplay=True)"
   ]
  },
  {
   "cell_type": "code",
   "execution_count": 66,
   "metadata": {
    "collapsed": true
   },
   "outputs": [],
   "source": [
    "with open('data/edges.bin', 'wb') as fp:\n",
    "    fp.write(pickle.dumps(crawler.edges))\n",
    "\n",
    "with open('data/visited.bin', 'wb') as fp:\n",
    "    fp.write(pickle.dumps(crawler.visited))\n",
    "\n",
    "with open('data/crawl_frontier.bin', 'wb') as fp:\n",
    "    fp.write(pickle.dumps(crawler.crawl_frontier))"
   ]
  },
  {
   "cell_type": "code",
   "execution_count": null,
   "metadata": {
    "collapsed": true
   },
   "outputs": [],
   "source": []
  }
 ],
 "metadata": {
  "kernelspec": {
   "display_name": "py36",
   "language": "python",
   "name": "py36"
  },
  "language_info": {
   "codemirror_mode": {
    "name": "ipython",
    "version": 3
   },
   "file_extension": ".py",
   "mimetype": "text/x-python",
   "name": "python",
   "nbconvert_exporter": "python",
   "pygments_lexer": "ipython3",
   "version": "3.6.1"
  }
 },
 "nbformat": 4,
 "nbformat_minor": 1
}
