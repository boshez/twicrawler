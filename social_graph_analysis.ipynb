{
 "cells": [
  {
   "cell_type": "code",
   "execution_count": 1,
   "metadata": {},
   "outputs": [
    {
     "data": {
      "text/html": [
       "<script>requirejs.config({paths: { 'plotly': ['https://cdn.plot.ly/plotly-latest.min']},});if(!window.Plotly) {{require(['plotly'],function(plotly) {window.Plotly=plotly;});}}</script>"
      ],
      "text/vnd.plotly.v1+html": [
       "<script>requirejs.config({paths: { 'plotly': ['https://cdn.plot.ly/plotly-latest.min']},});if(!window.Plotly) {{require(['plotly'],function(plotly) {window.Plotly=plotly;});}}</script>"
      ]
     },
     "metadata": {},
     "output_type": "display_data"
    }
   ],
   "source": [
    "import numpy as np\n",
    "import matplotlib.pyplot as plt\n",
    "% matplotlib inline\n",
    "import networkx as nx\n",
    "import tweepy\n",
    "import pickle\n",
    "import IPython.display as dp\n",
    "import urllib.request\n",
    "import io\n",
    "from PIL import Image\n",
    "import plotly\n",
    "import plotly.graph_objs as go\n",
    "plotly.offline.init_notebook_mode(connected=True)"
   ]
  },
  {
   "cell_type": "code",
   "execution_count": 2,
   "metadata": {},
   "outputs": [],
   "source": [
    "with open('data/edges.bin', 'rb') as fp:\n",
    "    edges = pickle.loads(fp.read())\n",
    "\n",
    "with open('data/visited.bin', 'rb') as fp:\n",
    "    visited = pickle.loads(fp.read())\n",
    "\n",
    "with open('data/crawl_frontier.bin', 'rb') as fp:\n",
    "    crawl_frontier = pickle.loads(fp.read())"
   ]
  },
  {
   "cell_type": "code",
   "execution_count": 3,
   "metadata": {},
   "outputs": [],
   "source": [
    "g = nx.DiGraph()\n",
    "g.add_edges_from(edges)"
   ]
  },
  {
   "cell_type": "code",
   "execution_count": 4,
   "metadata": {},
   "outputs": [],
   "source": [
    "ranks = {}\n",
    "ranks['pagerank'] = nx.pagerank(g)\n",
    "ranks['in_degree'] = nx.in_degree_centrality(g)\n",
    "ranks['closeness'] = nx.closeness_centrality(g)"
   ]
  },
  {
   "cell_type": "code",
   "execution_count": null,
   "metadata": {
    "collapsed": true
   },
   "outputs": [],
   "source": [
    "ranks['betweenness'] = nx.betweenness_centrality(g)"
   ]
  },
  {
   "cell_type": "code",
   "execution_count": null,
   "metadata": {},
   "outputs": [],
   "source": [
    "ranked = list(sorted(ranks['pagerank'], key=ranks['pagerank'].get, reverse=True))\n",
    "g.remove_nodes_from(ranked[12:])\n",
    "len(g.nodes())"
   ]
  },
  {
   "cell_type": "code",
   "execution_count": null,
   "metadata": {
    "collapsed": true
   },
   "outputs": [],
   "source": [
    "import config\n",
    "auth = tweepy.OAuthHandler(config.consumer_key, config.consumer_secret)\n",
    "auth.set_access_token(config.access_token_key, config.access_token_secret)\n",
    "api = tweepy.API(auth)"
   ]
  },
  {
   "cell_type": "code",
   "execution_count": null,
   "metadata": {},
   "outputs": [],
   "source": [
    "# get screen_name and image\n",
    "for user_id in g.nodes():\n",
    "    status = api.get_user(user_id)\n",
    "    g.node[user_id]['screen_name'] = status.screen_name\n",
    "    g.node[user_id]['image_url'] = status.profile_image_url\n",
    "    file = io.BytesIO(urllib.request.urlopen(status.profile_image_url).read())\n",
    "    g.node[user_id]['image']= Image.open(file)"
   ]
  },
  {
   "cell_type": "code",
   "execution_count": null,
   "metadata": {},
   "outputs": [],
   "source": [
    "g.node[g.nodes()[0]]['image']\n",
    "print('visited: %d' % len(visited))\n",
    "\n",
    "plt.subplots(2, 6, figsize=(22, 10))\n",
    "\n",
    "cnt = 1\n",
    "for user_id in g.nodes():\n",
    "    plt.subplot(2, 6, cnt)\n",
    "    plt.title(s=g.node[user_id]['screen_name'], fontsize=30, fontweight='bold')\n",
    "    plt.imshow(g.node[user_id]['image'])\n",
    "    cnt += 1"
   ]
  },
  {
   "cell_type": "code",
   "execution_count": null,
   "metadata": {},
   "outputs": [],
   "source": [
    "# pos = nx.spring_layout(g)\n",
    "pos = nx.circular_layout(g)\n",
    "\n",
    "fig = plt.figure(figsize=(10,10))\n",
    "ax = plt.subplot(111)\n",
    "nx.draw_networkx_edges(g, pos, ax=ax, arrows=True, zorder=10)\n",
    "\n",
    "trans = ax.transData.transform\n",
    "trans2 = fig.transFigure.inverted().transform\n",
    "\n",
    "piesize=0.05 # this is the image size\n",
    "p2=piesize/2.0\n",
    "for user_id in g.nodes():\n",
    "   xa, ya = trans2(trans(pos[user_id]))\n",
    "   a = plt.axes([xa-p2,ya-p2, piesize, piesize])\n",
    "   a.imshow(g.node[user_id]['image'], zorder=1)\n",
    "   a.axis('off')"
   ]
  },
  {
   "cell_type": "code",
   "execution_count": null,
   "metadata": {
    "scrolled": false
   },
   "outputs": [],
   "source": [
    "# pos = nx.spring_layout(g)\n",
    "pos = nx.circular_layout(g)\n",
    "\n",
    "Xv = [v[0] for v in pos.values()]\n",
    "Yv = [v[1] for v in pos.values()]\n",
    "Xed = np.array([[pos[edge[0]][0], pos[edge[1]][0]] for edge in g.edges()]).flatten()\n",
    "Yed = np.array([[pos[edge[0]][1], pos[edge[1]][1]] for edge in g.edges()]).flatten()\n",
    "labels = g.nodes()\n",
    "\n",
    "trace1=go.Scatter(x=Xed,\n",
    "                  y=Yed,\n",
    "                  mode='lines',\n",
    "                  line=go.Line(width=0.5,color='#888'),\n",
    "                  name='follow',\n",
    "                  hoverinfo='none'\n",
    ")\n",
    "trace2=go.Scatter(x=Xv,\n",
    "                  y=Yv,\n",
    "                  mode='markers',\n",
    "                  name='users',\n",
    "                  marker=go.Marker(symbol='dot', color='red', size=20),\n",
    "                  text=labels,\n",
    "                  hoverinfo='text'\n",
    ")\n",
    "\n",
    "images = [{\"source\": g.node[user_id]['image_url'], \n",
    "           \"x\": pos[user_id][0]/2.3 + 0.48, \n",
    "           \"y\": pos[user_id][1]/2.3 + 0.55, \n",
    "           \"sizex\": 0.1, \n",
    "           \"sizey\": 0.1,\n",
    "           } for user_id in g.nodes()]\n",
    "        \n",
    "layout= go.Layout(images=images)\n",
    "fig=go.Figure(data=[trace1, trace2], layout=layout)\n",
    "plotly.offline.iplot(fig)"
   ]
  },
  {
   "cell_type": "code",
   "execution_count": null,
   "metadata": {
    "collapsed": true
   },
   "outputs": [],
   "source": []
  }
 ],
 "metadata": {
  "kernelspec": {
   "display_name": "py36",
   "language": "python",
   "name": "py36"
  },
  "language_info": {
   "codemirror_mode": {
    "name": "ipython",
    "version": 3
   },
   "file_extension": ".py",
   "mimetype": "text/x-python",
   "name": "python",
   "nbconvert_exporter": "python",
   "pygments_lexer": "ipython3",
   "version": "3.6.1"
  }
 },
 "nbformat": 4,
 "nbformat_minor": 2
}
