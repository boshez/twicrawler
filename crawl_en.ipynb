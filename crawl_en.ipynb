{
 "cells": [
  {
   "cell_type": "code",
   "execution_count": null,
   "metadata": {
    "collapsed": true
   },
   "outputs": [],
   "source": [
    "import numpy as np\n",
    "import matplotlib.pyplot as plt\n",
    "% matplotlib inline\n",
    "import networkx as nx\n",
    "import tweepy\n",
    "import pickle\n",
    "import IPython.display as dp\n",
    "\n",
    "import config\n",
    "import twicrawler"
   ]
  },
  {
   "cell_type": "code",
   "execution_count": null,
   "metadata": {
    "collapsed": true
   },
   "outputs": [],
   "source": [
    "# ylecun, fchollet, goodfellow_ian, demishassabis, hardmaru\n",
    "seed_en = [48008938, 68746721, 775449094739197953, 1482581556, 2895499182]\n",
    "crawler = twicrawler.Crawler(config=config, seed=seed_en)"
   ]
  },
  {
   "cell_type": "code",
   "execution_count": null,
   "metadata": {},
   "outputs": [],
   "source": [
    "crawler.crawl(update_interval=5, max_itr=5)"
   ]
  },
  {
   "cell_type": "code",
   "execution_count": null,
   "metadata": {
    "collapsed": true
   },
   "outputs": [],
   "source": [
    "g = nx.from_edgelist(crawler.edges)\n",
    "ranks = nx.pagerank(g)"
   ]
  },
  {
   "cell_type": "code",
   "execution_count": null,
   "metadata": {},
   "outputs": [],
   "source": [
    "print('visited: %d' % len(crawler.visited))\n",
    "\n",
    "auth = tweepy.OAuthHandler(config.consumer_key, config.consumer_secret)\n",
    "auth.set_access_token(config.access_token_key, config.access_token_secret)\n",
    "api = tweepy.API(auth)\n",
    "\n",
    "for user_id in sorted(ranks, key=ranks.get, reverse=True)[:10]:\n",
    "    status = api.get_user(user_id)\n",
    "    print(status.screen_name)\n",
    "    img = dp.Image(url=status.profile_image_url)\n",
    "    dp.display(img)"
   ]
  },
  {
   "cell_type": "code",
   "execution_count": null,
   "metadata": {
    "collapsed": true
   },
   "outputs": [],
   "source": [
    "with open('data/edges_en.bin', 'wb') as fp:\n",
    "    fp.write(pickle.dumps(crawler.edges))\n",
    "\n",
    "with open('data/visited_en.bin', 'wb') as fp:\n",
    "    fp.write(pickle.dumps(crawler.visited))\n",
    "\n",
    "with open('data/crawl_frontier_en.bin', 'wb') as fp:\n",
    "    fp.write(pickle.dumps(crawler.crawl_frontier))"
   ]
  },
  {
   "cell_type": "code",
   "execution_count": null,
   "metadata": {
    "collapsed": true
   },
   "outputs": [],
   "source": []
  }
 ],
 "metadata": {
  "kernelspec": {
   "display_name": "py36",
   "language": "python",
   "name": "py36"
  },
  "language_info": {
   "codemirror_mode": {
    "name": "ipython",
    "version": 3
   },
   "file_extension": ".py",
   "mimetype": "text/x-python",
   "name": "python",
   "nbconvert_exporter": "python",
   "pygments_lexer": "ipython3",
   "version": "3.6.1"
  }
 },
 "nbformat": 4,
 "nbformat_minor": 1
}
