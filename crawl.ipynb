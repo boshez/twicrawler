{
 "cells": [
  {
   "cell_type": "code",
   "execution_count": 1,
   "metadata": {
    "collapsed": true
   },
   "outputs": [],
   "source": [
    "import matplotlib.pyplot as plt\n",
    "% matplotlib inline\n",
    "import tweepy\n",
    "import pickle\n",
    "import urllib.request\n",
    "\n",
    "import config\n",
    "import twicrawler"
   ]
  },
  {
   "cell_type": "code",
   "execution_count": 2,
   "metadata": {
    "collapsed": true
   },
   "outputs": [],
   "source": [
    "auth = tweepy.OAuthHandler(config.consumer_key, config.consumer_secret)\n",
    "auth.set_access_token(config.access_token_key, config.access_token_secret)\n",
    "api = tweepy.API(auth)"
   ]
  },
  {
   "cell_type": "code",
   "execution_count": 3,
   "metadata": {
    "collapsed": true
   },
   "outputs": [],
   "source": [
    "# shuyo, shima__shima, TJO_datasci, hillbig, yutakashino\n",
    "seed = [3998481, 31442147, 1320611023, 12483052, 4167551]\n",
    "crawler = twicrawler.Crawler(api=api, seed=seed)"
   ]
  },
  {
   "cell_type": "code",
   "execution_count": 4,
   "metadata": {
    "scrolled": false
   },
   "outputs": [
    {
     "name": "stdout",
     "output_type": "stream",
     "text": [
      "user_id: 1320611023, screen_name: TJO_datasci\n",
      "user_id: 31442147, screen_name: shima__shima\n",
      "user_id: 3998481, screen_name: shuyo\n",
      "user_id: 4167551, screen_name: yutakashino\n",
      "user_id: 12483052, screen_name: hillbig\n",
      "user_id: 139110796, screen_name: issei_sato\n",
      "user_id: 66270535, screen_name: delta2323_\n",
      "user_id: 5240201, screen_name: unnonouno\n",
      "user_id: 5904392, screen_name: sla\n",
      "user_id: 36610603, screen_name: hamadakoichi\n",
      "user_id: 74934425, screen_name: beam2d\n",
      "user_id: 5863362, screen_name: sassano\n",
      "user_id: 350789410, screen_name: hiroshnakagawa3\n",
      "user_id: 96551747, screen_name: ibaibabaibai\n",
      "user_id: 19596021, screen_name: oiwa_kun\n"
     ]
    }
   ],
   "source": [
    "crawler.crawl(update_interval=5, max_itr=15)\n",
    "print('visited: %d' % len(crawler.visited))"
   ]
  },
  {
   "cell_type": "code",
   "execution_count": 9,
   "metadata": {
    "collapsed": true
   },
   "outputs": [],
   "source": [
    "with open('data/graph.bin', 'wb') as fp:\n",
    "    fp.write(pickle.dumps(crawler.graph))\n",
    "\n",
    "with open('data/edges.bin', 'wb') as fp:\n",
    "    fp.write(pickle.dumps(crawler.edges))\n",
    "\n",
    "with open('data/visited.bin', 'wb') as fp:\n",
    "    fp.write(pickle.dumps(crawler.visited))\n",
    "\n",
    "with open('data/crawl_frontier.bin', 'wb') as fp:\n",
    "    fp.write(pickle.dumps(crawler.crawl_frontier))"
   ]
  },
  {
   "cell_type": "code",
   "execution_count": null,
   "metadata": {
    "collapsed": true
   },
   "outputs": [],
   "source": []
  }
 ],
 "metadata": {
  "kernelspec": {
   "display_name": "Python 3",
   "language": "python",
   "name": "python3"
  },
  "language_info": {
   "codemirror_mode": {
    "name": "ipython",
    "version": 3
   },
   "file_extension": ".py",
   "mimetype": "text/x-python",
   "name": "python",
   "nbconvert_exporter": "python",
   "pygments_lexer": "ipython3",
   "version": "3.6.1"
  }
 },
 "nbformat": 4,
 "nbformat_minor": 1
}
