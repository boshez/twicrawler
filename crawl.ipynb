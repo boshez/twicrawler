{
 "cells": [
  {
   "cell_type": "code",
   "execution_count": 1,
   "metadata": {
    "collapsed": true
   },
   "outputs": [],
   "source": [
    "import numpy as np\n",
    "import matplotlib.pyplot as plt\n",
    "% matplotlib inline\n",
    "import networkx as nx\n",
    "import tweepy\n",
    "import pickle\n",
    "import IPython.display as dp\n",
    "\n",
    "import config\n",
    "import twicrawler"
   ]
  },
  {
   "cell_type": "code",
   "execution_count": 2,
   "metadata": {
    "collapsed": true
   },
   "outputs": [],
   "source": [
    "auth = tweepy.OAuthHandler(config.consumer_key, config.consumer_secret)\n",
    "auth.set_access_token(config.access_token_key, config.access_token_secret)\n",
    "api = tweepy.API(auth)"
   ]
  },
  {
   "cell_type": "code",
   "execution_count": 3,
   "metadata": {
    "collapsed": true
   },
   "outputs": [],
   "source": [
    "# shuyo, kazoo04, shima__shima, TJO_datasci, hillbig\n",
    "seed = [3998481, 16331213, 31442147, 1320611023, 12483052]\n",
    "crawler = twicrawler.Crawler(config=config, seed=seed)"
   ]
  },
  {
   "cell_type": "code",
   "execution_count": 4,
   "metadata": {
    "collapsed": true
   },
   "outputs": [],
   "source": [
    "with open('data/edges.bin', 'rb') as fp:\n",
    "    crawler.edges = pickle.loads(fp.read())\n",
    "\n",
    "with open('data/visited.bin', 'rb') as fp:\n",
    "    crawler.visited = pickle.loads(fp.read())\n",
    "\n",
    "with open('data/crawl_frontier.bin', 'rb') as fp:\n",
    "    crawler.crawl_frontier = pickle.loads(fp.read())"
   ]
  },
  {
   "cell_type": "code",
   "execution_count": 8,
   "metadata": {
    "scrolled": false
   },
   "outputs": [
    {
     "name": "stdout",
     "output_type": "stream",
     "text": [
      "user_id: 172652054, screen_name: kojitsuda\n",
      "user_id: 29953050, screen_name: mhangyo\n",
      "user_id: 65584990, screen_name: kanayama_h\n",
      "user_id: 33838201, screen_name: googleresearch\n",
      "user_id: 18631141, screen_name: toddler2009\n",
      "user_id: 264813486, screen_name: inuikentaro\n",
      "user_id: 122338233, screen_name: y8o\n",
      "user_id: 130084480, screen_name: msraurjp\n",
      "user_id: 5752372, screen_name: whym\n",
      "user_id: 36610603, screen_name: hamadakoichi\n",
      "user_id: 5767802, screen_name: akf\n",
      "user_id: 3310801, screen_name: i2k\n",
      "user_id: 8428752, screen_name: y_benjo\n",
      "user_id: 8216412, screen_name: monizuka\n",
      "user_id: 90645166, screen_name: IBMRes_Tokyo\n",
      "user_id: 57511527, screen_name: kiyota_yoji\n",
      "user_id: 5867342, screen_name: beatinaniwa\n",
      "user_id: 83395803, screen_name: haplotyper\n",
      "user_id: 94100507, screen_name: odashi_t\n",
      "user_id: 154428317, screen_name: cocomoff\n",
      "user_id: 34173398, screen_name: murawaki\n",
      "user_id: 53263562, screen_name: tanichu\n",
      "user_id: 35126497, screen_name: kazushi_\n",
      "user_id: 42233669, screen_name: stomohide\n",
      "user_id: 100411906, screen_name: dsk_saito\n",
      "user_id: 68618936, screen_name: keiskS\n",
      "user_id: 58750958, screen_name: hikaruy\n",
      "user_id: 4961421, screen_name: shudo\n",
      "user_id: 177020762, screen_name: masin29\n",
      "user_id: 391379853, screen_name: moguranosenshi\n",
      "user_id: 94093032, screen_name: takeda25\n",
      "user_id: 202652239, screen_name: torotoki\n",
      "user_id: 297472362, screen_name: sho_yokoi\n",
      "user_id: 12873342, screen_name: Cryolite\n",
      "user_id: 42027820, screen_name: echizen_tm\n",
      "user_id: 37227600, screen_name: kumagi\n",
      "user_id: 8989802, screen_name: combinational\n",
      "user_id: 59034902, screen_name: yuyay_\n",
      "user_id: 97237303, screen_name: yu4u\n",
      "user_id: 179038136, screen_name: I_eric_Y\n",
      "user_id: 279314644, screen_name: tousuuken\n",
      "user_id: 107033612, screen_name: keyakkie\n",
      "user_id: 86071210, screen_name: PENGUINANA_\n",
      "user_id: 89644855, screen_name: eiichiroi\n",
      "user_id: 4863941, screen_name: conditional\n",
      "user_id: 14573657, screen_name: yag_ays\n",
      "user_id: 7729892, screen_name: Pnnc205j\n",
      "user_id: 13705662, screen_name: sorami\n",
      "user_id: 5847882, screen_name: maruyama\n",
      "user_id: 103027920, screen_name: a_bicky\n",
      "user_id: 2195153192, screen_name: oxytan\n",
      "user_id: 279996875, screen_name: kiyukuta\n",
      "user_id: 2180077237, screen_name: aonotas\n",
      "user_id: 132518179, screen_name: big_wing\n",
      "user_id: 19951423, screen_name: tarowatanabe\n",
      "user_id: 152854745, screen_name: mblondel_ja\n",
      "user_id: 231418000, screen_name: m_matsunag\n",
      "user_id: 471847937, screen_name: yans_official\n",
      "user_id: 216939636, screen_name: AndrewYNg\n",
      "user_id: 108896452, screen_name: langstat\n"
     ]
    }
   ],
   "source": [
    "crawler.crawl(update_interval=5, max_itr=15*4)"
   ]
  },
  {
   "cell_type": "code",
   "execution_count": 12,
   "metadata": {
    "collapsed": true
   },
   "outputs": [],
   "source": [
    "g = nx.from_edgelist(crawler.edges)\n",
    "ranks = nx.pagerank(g)"
   ]
  },
  {
   "cell_type": "code",
   "execution_count": 13,
   "metadata": {
    "scrolled": false
   },
   "outputs": [
    {
     "name": "stdout",
     "output_type": "stream",
     "text": [
      "visited: 154\n",
      "kis\n"
     ]
    },
    {
     "data": {
      "text/html": [
       "<img src=\"http://pbs.twimg.com/profile_images/378800000551824745/d8713c355d8bd05a2e041d821d9e3689_normal.jpeg\"/>"
      ],
      "text/plain": [
       "<IPython.core.display.Image object>"
      ]
     },
     "metadata": {},
     "output_type": "display_data"
    },
    {
     "name": "stdout",
     "output_type": "stream",
     "text": [
      "nishio\n"
     ]
    },
    {
     "data": {
      "text/html": [
       "<img src=\"http://pbs.twimg.com/profile_images/720089872686403584/Xgj-lqI5_normal.jpg\"/>"
      ],
      "text/plain": [
       "<IPython.core.display.Image object>"
      ]
     },
     "metadata": {},
     "output_type": "display_data"
    },
    {
     "name": "stdout",
     "output_type": "stream",
     "text": [
      "kumagi\n"
     ]
    },
    {
     "data": {
      "text/html": [
       "<img src=\"http://pbs.twimg.com/profile_images/1111968075/____normal.jpg\"/>"
      ],
      "text/plain": [
       "<IPython.core.display.Image object>"
      ]
     },
     "metadata": {},
     "output_type": "display_data"
    },
    {
     "name": "stdout",
     "output_type": "stream",
     "text": [
      "Cryolite\n"
     ]
    },
    {
     "data": {
      "text/html": [
       "<img src=\"http://pbs.twimg.com/profile_images/852899836223406080/_ASRi5fQ_normal.jpg\"/>"
      ],
      "text/plain": [
       "<IPython.core.display.Image object>"
      ]
     },
     "metadata": {},
     "output_type": "display_data"
    },
    {
     "name": "stdout",
     "output_type": "stream",
     "text": [
      "y_benjo\n"
     ]
    },
    {
     "data": {
      "text/html": [
       "<img src=\"http://pbs.twimg.com/profile_images/460670716354891776/k74PaeCU_normal.jpeg\"/>"
      ],
      "text/plain": [
       "<IPython.core.display.Image object>"
      ]
     },
     "metadata": {},
     "output_type": "display_data"
    },
    {
     "name": "stdout",
     "output_type": "stream",
     "text": [
      "mamoruk\n"
     ]
    },
    {
     "data": {
      "text/html": [
       "<img src=\"http://pbs.twimg.com/profile_images/709181802/acl-ijcnlp_normal.jpg\"/>"
      ],
      "text/plain": [
       "<IPython.core.display.Image object>"
      ]
     },
     "metadata": {},
     "output_type": "display_data"
    },
    {
     "name": "stdout",
     "output_type": "stream",
     "text": [
      "ballforest\n"
     ]
    },
    {
     "data": {
      "text/html": [
       "<img src=\"http://pbs.twimg.com/profile_images/702117658720776192/6XCu1jrx_normal.jpg\"/>"
      ],
      "text/plain": [
       "<IPython.core.display.Image object>"
      ]
     },
     "metadata": {},
     "output_type": "display_data"
    },
    {
     "name": "stdout",
     "output_type": "stream",
     "text": [
      "1T0T\n"
     ]
    },
    {
     "data": {
      "text/html": [
       "<img src=\"http://pbs.twimg.com/profile_images/897259338732982272/xQtVh0Vh_normal.jpg\"/>"
      ],
      "text/plain": [
       "<IPython.core.display.Image object>"
      ]
     },
     "metadata": {},
     "output_type": "display_data"
    },
    {
     "name": "stdout",
     "output_type": "stream",
     "text": [
      "shudo\n"
     ]
    },
    {
     "data": {
      "text/html": [
       "<img src=\"http://pbs.twimg.com/profile_images/1087457411/IMG_2058_normal.JPG\"/>"
      ],
      "text/plain": [
       "<IPython.core.display.Image object>"
      ]
     },
     "metadata": {},
     "output_type": "display_data"
    },
    {
     "name": "stdout",
     "output_type": "stream",
     "text": [
      "kunit\n"
     ]
    },
    {
     "data": {
      "text/html": [
       "<img src=\"http://pbs.twimg.com/profile_images/2220010032/kunit_normal.jpg\"/>"
      ],
      "text/plain": [
       "<IPython.core.display.Image object>"
      ]
     },
     "metadata": {},
     "output_type": "display_data"
    }
   ],
   "source": [
    "print('visited: %d' % len(crawler.visited))\n",
    "\n",
    "for user_id in sorted(ranks, key=ranks.get, reverse=True)[:10]:\n",
    "    status = api.get_user(user_id)\n",
    "    print(status.screen_name)\n",
    "    img = dp.Image(url=status.profile_image_url)\n",
    "    dp.display(img)"
   ]
  },
  {
   "cell_type": "code",
   "execution_count": 14,
   "metadata": {},
   "outputs": [
    {
     "data": {
      "text/html": [
       "\n",
       "                <audio controls=\"controls\" autoplay=\"autoplay\">\n",
       "                    <source src=\"http://soundeffect-lab.info/sound/button/mp3/decision8.mp3\" type=\"audio/mpeg\" />\n",
       "                    Your browser does not support the audio element.\n",
       "                </audio>\n",
       "              "
      ],
      "text/plain": [
       "<IPython.lib.display.Audio object>"
      ]
     },
     "execution_count": 14,
     "metadata": {},
     "output_type": "execute_result"
    }
   ],
   "source": [
    "import IPython.display\n",
    "IPython.display.Audio(url='http://soundeffect-lab.info/sound/button/mp3/decision8.mp3', autoplay=True)"
   ]
  },
  {
   "cell_type": "code",
   "execution_count": 15,
   "metadata": {
    "collapsed": true
   },
   "outputs": [],
   "source": [
    "with open('data/edges.bin', 'wb') as fp:\n",
    "    fp.write(pickle.dumps(crawler.edges))\n",
    "\n",
    "with open('data/visited.bin', 'wb') as fp:\n",
    "    fp.write(pickle.dumps(crawler.visited))\n",
    "\n",
    "with open('data/crawl_frontier.bin', 'wb') as fp:\n",
    "    fp.write(pickle.dumps(crawler.crawl_frontier))"
   ]
  },
  {
   "cell_type": "code",
   "execution_count": null,
   "metadata": {
    "collapsed": true
   },
   "outputs": [],
   "source": []
  }
 ],
 "metadata": {
  "kernelspec": {
   "display_name": "py36",
   "language": "python",
   "name": "py36"
  },
  "language_info": {
   "codemirror_mode": {
    "name": "ipython",
    "version": 3
   },
   "file_extension": ".py",
   "mimetype": "text/x-python",
   "name": "python",
   "nbconvert_exporter": "python",
   "pygments_lexer": "ipython3",
   "version": "3.6.1"
  }
 },
 "nbformat": 4,
 "nbformat_minor": 1
}
