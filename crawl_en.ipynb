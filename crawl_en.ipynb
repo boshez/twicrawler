{
 "cells": [
  {
   "cell_type": "code",
   "execution_count": 23,
   "metadata": {
    "collapsed": true
   },
   "outputs": [],
   "source": [
    "import numpy as np\n",
    "import matplotlib.pyplot as plt\n",
    "% matplotlib inline\n",
    "import networkx as nx\n",
    "import tweepy\n",
    "import pickle\n",
    "import IPython.display\n",
    "\n",
    "import config\n",
    "import twicrawler"
   ]
  },
  {
   "cell_type": "code",
   "execution_count": 2,
   "metadata": {
    "collapsed": true
   },
   "outputs": [],
   "source": [
    "# ylecun, fchollet, goodfellow_ian, demishassabis, hardmaru\n",
    "seed_en = [48008938, 68746721, 775449094739197953, 1482581556, 2895499182]\n",
    "crawler = twicrawler.Crawler(config=config, seed=seed_en)"
   ]
  },
  {
   "cell_type": "code",
   "execution_count": 10,
   "metadata": {},
   "outputs": [
    {
     "name": "stdout",
     "output_type": "stream",
     "text": [
      "user_id: 14408924, screen_name: redpony\n",
      "user_id: 1540897980, screen_name: dustinvtran\n",
      "user_id: 438301250, screen_name: fhuszar\n",
      "user_id: 2873928633, screen_name: TlkngMchns\n",
      "user_id: 5943622, screen_name: pmarca\n",
      "user_id: 158789494, screen_name: nlpnoah\n",
      "user_id: 14130366, screen_name: sundarpichai\n",
      "user_id: 50393960, screen_name: BillGates\n",
      "user_id: 1605, screen_name: sama\n",
      "user_id: 11766442, screen_name: dennybritz\n",
      "user_id: 15626406, screen_name: michael_nielsen\n",
      "user_id: 586559221, screen_name: rivatez\n",
      "user_id: 167346791, screen_name: mxlearn\n",
      "user_id: 1601593543, screen_name: DavidDuvenaud\n",
      "user_id: 228792418, screen_name: _rockt\n",
      "user_id: 56872711, screen_name: tejasdkulkarni\n",
      "user_id: 4527505582, screen_name: scott_e_reed\n",
      "user_id: 765548, screen_name: hmason\n",
      "user_id: 158799075, screen_name: sindero\n",
      "user_id: 16067035, screen_name: ogrisel\n",
      "user_id: 7352832, screen_name: theophaneweber\n",
      "user_id: 39547749, screen_name: yoavgo\n",
      "user_id: 44073696, screen_name: roydanroy\n",
      "user_id: 261515114, screen_name: neurobongo\n",
      "user_id: 82364810, screen_name: MIT_CSAIL\n",
      "user_id: 29469671, screen_name: quantombone\n",
      "user_id: 813286, screen_name: BarackObama\n",
      "user_id: 384978819, screen_name: mpd37\n",
      "user_id: 16984977, screen_name: deliprao\n",
      "user_id: 21457289, screen_name: MSFTResearch\n",
      "user_id: 412628332, screen_name: FeryalMP\n",
      "user_id: 1095841166, screen_name: avdnoord\n",
      "user_id: 2529971, screen_name: cdixon\n",
      "user_id: 18464317, screen_name: andrewmccallum\n",
      "user_id: 42226885, screen_name: vkhosla\n",
      "user_id: 175282603, screen_name: jeremyphoward\n",
      "user_id: 734984179956338688, screen_name: laurent_dinh\n",
      "user_id: 2814476470, screen_name: graphific\n",
      "user_id: 15823641, screen_name: mrtz\n",
      "user_id: 709543955126333440, screen_name: boredyannlecun\n",
      "user_id: 14009672, screen_name: jasonyo\n",
      "user_id: 14053240, screen_name: mdreid\n",
      "user_id: 2895770934, screen_name: DeepLearningHub\n",
      "user_id: 14968475, screen_name: jurafsky\n",
      "user_id: 9316452, screen_name: xamat\n",
      "user_id: 22674817, screen_name: benhamner\n",
      "user_id: 9115762, screen_name: alexjc\n",
      "user_id: 140980031, screen_name: suchisaria\n",
      "user_id: 14344469, screen_name: peteskomoroch\n",
      "user_id: 8143682, screen_name: jure\n",
      "user_id: 1581645991, screen_name: MirowskiPiotr\n",
      "user_id: 14642896, screen_name: petewarden\n",
      "user_id: 315636336, screen_name: dribnet\n",
      "user_id: 14103014, screen_name: poolio\n",
      "user_id: 18027886, screen_name: lmthang\n",
      "user_id: 26970530, screen_name: mat_kelcey\n",
      "user_id: 2309105822, screen_name: ericjang11\n",
      "user_id: 254107028, screen_name: tensorflow\n",
      "user_id: 4194417913, screen_name: TensorFlo\n",
      "user_id: 72030668, screen_name: glouppe\n",
      "visited: 135\n"
     ]
    }
   ],
   "source": [
    "crawler.crawl(update_interval=5, max_itr=15*4)\n",
    "print('visited: %d' % len(crawler.visited))"
   ]
  },
  {
   "cell_type": "code",
   "execution_count": 11,
   "metadata": {
    "collapsed": true
   },
   "outputs": [],
   "source": [
    "g = nx.from_edgelist(crawler.edges)\n",
    "ranks = nx.pagerank(g)"
   ]
  },
  {
   "cell_type": "code",
   "execution_count": 12,
   "metadata": {
    "collapsed": true
   },
   "outputs": [],
   "source": [
    "auth = tweepy.OAuthHandler(config.consumer_key, config.consumer_secret)\n",
    "auth.set_access_token(config.access_token_key, config.access_token_secret)\n",
    "api = tweepy.API(auth)"
   ]
  },
  {
   "cell_type": "code",
   "execution_count": 24,
   "metadata": {},
   "outputs": [
    {
     "name": "stdout",
     "output_type": "stream",
     "text": [
      "BarackObama\n"
     ]
    },
    {
     "data": {
      "text/html": [
       "<img src=\"http://pbs.twimg.com/profile_images/822547732376207360/5g0FC8XX_normal.jpg\"/>"
      ],
      "text/plain": [
       "<IPython.core.display.Image object>"
      ]
     },
     "metadata": {},
     "output_type": "display_data"
    },
    {
     "name": "stdout",
     "output_type": "stream",
     "text": [
      "pmarca\n"
     ]
    },
    {
     "data": {
      "text/html": [
       "<img src=\"http://pbs.twimg.com/profile_images/873001402682847233/ee7Z9uuj_normal.jpg\"/>"
      ],
      "text/plain": [
       "<IPython.core.display.Image object>"
      ]
     },
     "metadata": {},
     "output_type": "display_data"
    },
    {
     "name": "stdout",
     "output_type": "stream",
     "text": [
      "MIT_CSAIL\n"
     ]
    },
    {
     "data": {
      "text/html": [
       "<img src=\"http://pbs.twimg.com/profile_images/885505956272115712/U81HpDxb_normal.jpg\"/>"
      ],
      "text/plain": [
       "<IPython.core.display.Image object>"
      ]
     },
     "metadata": {},
     "output_type": "display_data"
    },
    {
     "name": "stdout",
     "output_type": "stream",
     "text": [
      "mxlearn\n"
     ]
    },
    {
     "data": {
      "text/html": [
       "<img src=\"http://pbs.twimg.com/profile_images/1106397616/mxlean_100x100_normal.png\"/>"
      ],
      "text/plain": [
       "<IPython.core.display.Image object>"
      ]
     },
     "metadata": {},
     "output_type": "display_data"
    },
    {
     "name": "stdout",
     "output_type": "stream",
     "text": [
      "cdixon\n"
     ]
    },
    {
     "data": {
      "text/html": [
       "<img src=\"http://pbs.twimg.com/profile_images/683496924104658944/8Oa5XAso_normal.png\"/>"
      ],
      "text/plain": [
       "<IPython.core.display.Image object>"
      ]
     },
     "metadata": {},
     "output_type": "display_data"
    },
    {
     "name": "stdout",
     "output_type": "stream",
     "text": [
      "GaryMarcus\n"
     ]
    },
    {
     "data": {
      "text/html": [
       "<img src=\"http://pbs.twimg.com/profile_images/850347800789372929/Vg_HrEun_normal.jpg\"/>"
      ],
      "text/plain": [
       "<IPython.core.display.Image object>"
      ]
     },
     "metadata": {},
     "output_type": "display_data"
    },
    {
     "name": "stdout",
     "output_type": "stream",
     "text": [
      "FeryalMP\n"
     ]
    },
    {
     "data": {
      "text/html": [
       "<img src=\"http://pbs.twimg.com/profile_images/605180806215155712/4faNiFwr_normal.jpg\"/>"
      ],
      "text/plain": [
       "<IPython.core.display.Image object>"
      ]
     },
     "metadata": {},
     "output_type": "display_data"
    },
    {
     "name": "stdout",
     "output_type": "stream",
     "text": [
      "michael_nielsen\n"
     ]
    },
    {
     "data": {
      "text/html": [
       "<img src=\"http://pbs.twimg.com/profile_images/2756243281/6d3d0ade1bd4364b75d7d0151dce38e5_normal.png\"/>"
      ],
      "text/plain": [
       "<IPython.core.display.Image object>"
      ]
     },
     "metadata": {},
     "output_type": "display_data"
    },
    {
     "name": "stdout",
     "output_type": "stream",
     "text": [
      "benhamner\n"
     ]
    },
    {
     "data": {
      "text/html": [
       "<img src=\"http://pbs.twimg.com/profile_images/1770043191/image1327119418_normal.png\"/>"
      ],
      "text/plain": [
       "<IPython.core.display.Image object>"
      ]
     },
     "metadata": {},
     "output_type": "display_data"
    },
    {
     "name": "stdout",
     "output_type": "stream",
     "text": [
      "jackclarkSF\n"
     ]
    },
    {
     "data": {
      "text/html": [
       "<img src=\"http://pbs.twimg.com/profile_images/726446881547517952/ULhSTKxN_normal.jpg\"/>"
      ],
      "text/plain": [
       "<IPython.core.display.Image object>"
      ]
     },
     "metadata": {},
     "output_type": "display_data"
    }
   ],
   "source": [
    "for user_id in sorted(ranks, key=ranks.get, reverse=True)[:10]:\n",
    "    status = api.get_user(user_id)\n",
    "    print(status.screen_name)\n",
    "    img = IPython.display.Image(url=status.profile_image_url)\n",
    "    IPython.display.display(img)"
   ]
  },
  {
   "cell_type": "code",
   "execution_count": 14,
   "metadata": {
    "collapsed": true
   },
   "outputs": [],
   "source": [
    "with open('data/edges_en.bin', 'wb') as fp:\n",
    "    fp.write(pickle.dumps(crawler.edges))\n",
    "\n",
    "with open('data/visited_en.bin', 'wb') as fp:\n",
    "    fp.write(pickle.dumps(crawler.visited))\n",
    "\n",
    "with open('data/crawl_frontier_en.bin', 'wb') as fp:\n",
    "    fp.write(pickle.dumps(crawler.crawl_frontier))"
   ]
  },
  {
   "cell_type": "code",
   "execution_count": null,
   "metadata": {},
   "outputs": [],
   "source": [
    "IPython.display.Audio(url='http://soundeffect-lab.info/sound/button/mp3/decision8.mp3', autoplay=True)"
   ]
  },
  {
   "cell_type": "code",
   "execution_count": null,
   "metadata": {
    "collapsed": true
   },
   "outputs": [],
   "source": []
  }
 ],
 "metadata": {
  "kernelspec": {
   "display_name": "py36",
   "language": "python",
   "name": "py36"
  },
  "language_info": {
   "codemirror_mode": {
    "name": "ipython",
    "version": 3
   },
   "file_extension": ".py",
   "mimetype": "text/x-python",
   "name": "python",
   "nbconvert_exporter": "python",
   "pygments_lexer": "ipython3",
   "version": "3.6.1"
  }
 },
 "nbformat": 4,
 "nbformat_minor": 1
}
