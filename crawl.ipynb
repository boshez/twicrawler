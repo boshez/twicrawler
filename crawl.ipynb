{
 "cells": [
  {
   "cell_type": "code",
   "execution_count": 56,
   "metadata": {},
   "outputs": [],
   "source": [
    "import config\n",
    "import numpy as np\n",
    "import matplotlib.pyplot as plt\n",
    "% matplotlib inline\n",
    "import networkx as nx\n",
    "import tweepy\n",
    "import twicrawler\n",
    "import IPython.display as dp"
   ]
  },
  {
   "cell_type": "code",
   "execution_count": 2,
   "metadata": {
    "collapsed": true
   },
   "outputs": [],
   "source": [
    "auth = tweepy.OAuthHandler(config.consumer_key, config.consumer_secret)\n",
    "auth.set_access_token(config.access_token_key, config.access_token_secret)\n",
    "api = tweepy.API(auth)"
   ]
  },
  {
   "cell_type": "code",
   "execution_count": 3,
   "metadata": {
    "collapsed": true
   },
   "outputs": [],
   "source": [
    "# 3998481, shuyo\n",
    "# 16331213, kazoo04\n",
    "# 31442147, shima__shima\n",
    "# 1320611023, TJO_datasci\n",
    "# 2343754692, nardtree\n",
    "seed = [3998481, 16331213, 31442147, 1320611023, 2343754692]\n",
    "crawler = twicrawler.Crawler(api=api, seed=seed)"
   ]
  },
  {
   "cell_type": "code",
   "execution_count": 4,
   "metadata": {},
   "outputs": [
    {
     "name": "stdout",
     "output_type": "stream",
     "text": [
      "rm: cannot remove 'edges.csv': No such file or directory\r\n"
     ]
    }
   ],
   "source": [
    "!rm edges.csv"
   ]
  },
  {
   "cell_type": "code",
   "execution_count": 55,
   "metadata": {
    "scrolled": false
   },
   "outputs": [
    {
     "name": "stdout",
     "output_type": "stream",
     "text": [
      "user_id: 14293752, screen_name: myui\n",
      "user_id: 4053901, screen_name: smly\n",
      "user_id: 4128491, screen_name: sesejun\n",
      "user_id: 66270535, screen_name: delta2323_\n",
      "user_id: 94515934, screen_name: neubig\n",
      "user_id: 45826692, screen_name: tsubosaka\n",
      "user_id: 5240201, screen_name: unnonouno\n",
      "user_id: 5794082, screen_name: tkng\n",
      "user_id: 126650743, screen_name: ibisml\n",
      "user_id: 5373072, screen_name: yoh_okuno\n",
      "user_id: 74934425, screen_name: beam2d\n",
      "user_id: 54912037, screen_name: taku910\n",
      "user_id: 60827676, screen_name: preferred_jp\n",
      "user_id: 16555745, screen_name: iwiwi\n",
      "user_id: 4354221, screen_name: kzk_mover\n"
     ]
    }
   ],
   "source": [
    "crawler.crawl('edges.csv', 15)"
   ]
  },
  {
   "cell_type": "code",
   "execution_count": 59,
   "metadata": {},
   "outputs": [],
   "source": [
    "g = nx.from_edgelist(crawler.edges)\n",
    "ranks = nx.pagerank(g)"
   ]
  },
  {
   "cell_type": "code",
   "execution_count": 62,
   "metadata": {},
   "outputs": [
    {
     "name": "stdout",
     "output_type": "stream",
     "text": [
      "kis\n"
     ]
    },
    {
     "data": {
      "text/html": [
       "<img src=\"http://pbs.twimg.com/profile_images/378800000551824745/d8713c355d8bd05a2e041d821d9e3689_normal.jpeg\"/>"
      ]
     },
     "metadata": {},
     "output_type": "display_data"
    },
    {
     "name": "stdout",
     "output_type": "stream",
     "text": [
      "nishio\n"
     ]
    },
    {
     "data": {
      "text/html": [
       "<img src=\"http://pbs.twimg.com/profile_images/720089872686403584/Xgj-lqI5_normal.jpg\"/>"
      ]
     },
     "metadata": {},
     "output_type": "display_data"
    },
    {
     "name": "stdout",
     "output_type": "stream",
     "text": [
      "mamoruk\n"
     ]
    },
    {
     "data": {
      "text/html": [
       "<img src=\"http://pbs.twimg.com/profile_images/709181802/acl-ijcnlp_normal.jpg\"/>"
      ]
     },
     "metadata": {},
     "output_type": "display_data"
    },
    {
     "name": "stdout",
     "output_type": "stream",
     "text": [
      "kunit\n"
     ]
    },
    {
     "data": {
      "text/html": [
       "<img src=\"http://pbs.twimg.com/profile_images/2220010032/kunit_normal.jpg\"/>"
      ]
     },
     "metadata": {},
     "output_type": "display_data"
    },
    {
     "name": "stdout",
     "output_type": "stream",
     "text": [
      "smly\n"
     ]
    },
    {
     "data": {
      "text/html": [
       "<img src=\"http://pbs.twimg.com/profile_images/503911303304323072/7i7y5lKC_normal.jpeg\"/>"
      ]
     },
     "metadata": {},
     "output_type": "display_data"
    },
    {
     "name": "stdout",
     "output_type": "stream",
     "text": [
      "unnonouno\n"
     ]
    },
    {
     "data": {
      "text/html": [
       "<img src=\"http://pbs.twimg.com/profile_images/1552506739/face_normal.jpg\"/>"
      ]
     },
     "metadata": {},
     "output_type": "display_data"
    },
    {
     "name": "stdout",
     "output_type": "stream",
     "text": [
      "taroleo\n"
     ]
    },
    {
     "data": {
      "text/html": [
       "<img src=\"http://pbs.twimg.com/profile_images/652040869705461760/eIm1fxaM_normal.jpg\"/>"
      ]
     },
     "metadata": {},
     "output_type": "display_data"
    },
    {
     "name": "stdout",
     "output_type": "stream",
     "text": [
      "kzk_mover\n"
     ]
    },
    {
     "data": {
      "text/html": [
       "<img src=\"http://pbs.twimg.com/profile_images/551679968824922112/9U6i2GqX_normal.jpeg\"/>"
      ]
     },
     "metadata": {},
     "output_type": "display_data"
    },
    {
     "name": "stdout",
     "output_type": "stream",
     "text": [
      "sla\n"
     ]
    },
    {
     "data": {
      "text/html": [
       "<img src=\"http://pbs.twimg.com/profile_images/793726162341994496/kbR-_G8n_normal.jpg\"/>"
      ]
     },
     "metadata": {},
     "output_type": "display_data"
    },
    {
     "name": "stdout",
     "output_type": "stream",
     "text": [
      "myui\n"
     ]
    },
    {
     "data": {
      "text/html": [
       "<img src=\"http://pbs.twimg.com/profile_images/415816230059012096/LCdC7sXD_normal.jpeg\"/>"
      ]
     },
     "metadata": {},
     "output_type": "display_data"
    }
   ],
   "source": [
    "for user_id in sorted(ranks, key=ranks.get, reverse=True)[:10]:\n",
    "    status = api.get_user(user_id)\n",
    "    print(status.screen_name)\n",
    "    img = dp.Image(url=status.profile_image_url)\n",
    "    dp.display_html(img)"
   ]
  },
  {
   "cell_type": "code",
   "execution_count": null,
   "metadata": {
    "collapsed": true
   },
   "outputs": [],
   "source": []
  }
 ],
 "metadata": {
  "kernelspec": {
   "display_name": "py36",
   "language": "python",
   "name": "py36"
  },
  "language_info": {
   "codemirror_mode": {
    "name": "ipython",
    "version": 3
   },
   "file_extension": ".py",
   "mimetype": "text/x-python",
   "name": "python",
   "nbconvert_exporter": "python",
   "pygments_lexer": "ipython3",
   "version": "3.6.1"
  }
 },
 "nbformat": 4,
 "nbformat_minor": 1
}
