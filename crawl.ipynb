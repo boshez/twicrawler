{
 "cells": [
  {
   "cell_type": "code",
   "execution_count": 1,
   "metadata": {
    "collapsed": true
   },
   "outputs": [],
   "source": [
    "import tweepy\n",
    "import pickle\n",
    "\n",
    "import config\n",
    "import twicrawler"
   ]
  },
  {
   "cell_type": "code",
   "execution_count": 2,
   "metadata": {
    "collapsed": true
   },
   "outputs": [],
   "source": [
    "auth = tweepy.OAuthHandler(config.consumer_key, config.consumer_secret)\n",
    "auth.set_access_token(config.access_token_key, config.access_token_secret)\n",
    "api = tweepy.API(auth)"
   ]
  },
  {
   "cell_type": "code",
   "execution_count": 3,
   "metadata": {
    "collapsed": true
   },
   "outputs": [],
   "source": [
    "# You can control the area to crawl very roughly by editing the seed.\n",
    "# ylecun, fchollet, goodfellow_ian, demishassabis, hardmaru\n",
    "seed = [48008938, 68746721, 775449094739197953, 1482581556, 2895499182]\n",
    "crawler = twicrawler.Crawler(seed=seed)"
   ]
  },
  {
   "cell_type": "code",
   "execution_count": null,
   "metadata": {
    "collapsed": true
   },
   "outputs": [],
   "source": [
    "# Do not run if this is the first time.\n",
    "with open('data/crawler.bin', 'rb') as fp:\n",
    "    crawler = pickle.loads(fp.read())\n",
    "\n",
    "print('#{nodes}: %d' % crawler.graph.number_of_nodes())\n",
    "print('#{edges}: %d' % crawler.graph.number_of_edges())\n",
    "print('visited: %d' % len(crawler.visited))"
   ]
  },
  {
   "cell_type": "code",
   "execution_count": 4,
   "metadata": {
    "scrolled": false
   },
   "outputs": [
    {
     "name": "stdout",
     "output_type": "stream",
     "text": [
      "user_id: 775449094739197953, screen_name: goodfellow_ian\n",
      "user_id: 68746721, screen_name: fchollet\n",
      "user_id: 48008938, screen_name: ylecun\n",
      "user_id: 2895499182, screen_name: hardmaru\n",
      "user_id: 1482581556, screen_name: demishassabis\n",
      "user_id: 44196397, screen_name: elonmusk\n",
      "user_id: 14130366, screen_name: sundarpichai\n",
      "user_id: 93957809, screen_name: ericschmidt\n",
      "user_id: 2314443930, screen_name: mustafasuleymn\n",
      "user_id: 37254334, screen_name: ShaneLegg\n",
      "user_id: 20536157, screen_name: Google\n",
      "user_id: 821766660822626304, screen_name: PartnershipAI\n",
      "user_id: 130745589, screen_name: drfeifei\n",
      "user_id: 16242081, screen_name: bhorowitz\n",
      "user_id: 449588356, screen_name: Kasparov63\n",
      "visited: 15\n"
     ]
    }
   ],
   "source": [
    "crawler.crawl(api=api, update_interval=5, max_itr=15)\n",
    "print('visited: %d' % len(crawler.visited))"
   ]
  },
  {
   "cell_type": "code",
   "execution_count": 5,
   "metadata": {
    "collapsed": true
   },
   "outputs": [],
   "source": [
    "with open('data/crawler.bin', 'wb') as fp:\n",
    "    fp.write(pickle.dumps(crawler))"
   ]
  },
  {
   "cell_type": "code",
   "execution_count": null,
   "metadata": {
    "collapsed": true
   },
   "outputs": [],
   "source": []
  }
 ],
 "metadata": {
  "kernelspec": {
   "display_name": "Python 3",
   "language": "python",
   "name": "python3"
  },
  "language_info": {
   "codemirror_mode": {
    "name": "ipython",
    "version": 3
   },
   "file_extension": ".py",
   "mimetype": "text/x-python",
   "name": "python",
   "nbconvert_exporter": "python",
   "pygments_lexer": "ipython3",
   "version": "3.6.1"
  }
 },
 "nbformat": 4,
 "nbformat_minor": 1
}
