{
 "cells": [
  {
   "cell_type": "code",
   "execution_count": 25,
   "metadata": {
    "collapsed": true
   },
   "outputs": [],
   "source": [
    "import numpy as np\n",
    "import matplotlib.pyplot as plt\n",
    "% matplotlib inline\n",
    "import networkx as nx\n",
    "import tweepy\n",
    "import pickle\n",
    "import IPython.display\n",
    "\n",
    "import config\n",
    "import twicrawler"
   ]
  },
  {
   "cell_type": "code",
   "execution_count": 2,
   "metadata": {
    "collapsed": true
   },
   "outputs": [],
   "source": [
    "# ylecun, fchollet, goodfellow_ian, demishassabis, hardmaru\n",
    "seed_en = [48008938, 68746721, 775449094739197953, 1482581556, 2895499182]\n",
    "crawler = twicrawler.Crawler(config=config, seed=seed_en)"
   ]
  },
  {
   "cell_type": "code",
   "execution_count": 26,
   "metadata": {},
   "outputs": [
    {
     "name": "stdout",
     "output_type": "stream",
     "text": [
      "user_id: 1408142352, screen_name: math_rachel\n",
      "user_id: 15379361, screen_name: johnmyleswhite\n",
      "user_id: 62889225, screen_name: numbercrunching\n",
      "user_id: 184983241, screen_name: douglas_eck\n",
      "user_id: 16061930, screen_name: hackingdata\n",
      "user_id: 2865100348, screen_name: WiMLworkshop\n",
      "user_id: 119837224, screen_name: jasonbaldridge\n",
      "user_id: 741571058776571904, screen_name: iclr2017\n",
      "user_id: 359622624, screen_name: _beenkim\n",
      "user_id: 1477712862, screen_name: fastml_extra\n",
      "user_id: 60944552, screen_name: yisongyue\n",
      "user_id: 3293011687, screen_name: TorchML\n",
      "user_id: 29090443, screen_name: latentjasper\n",
      "user_id: 3344958413, screen_name: kswersk\n",
      "user_id: 14450509, screen_name: pfau\n",
      "visited: 150\n"
     ]
    }
   ],
   "source": [
    "crawler.crawl(update_interval=5, max_itr=15)\n",
    "print('visited: %d' % len(crawler.visited))"
   ]
  },
  {
   "cell_type": "code",
   "execution_count": 30,
   "metadata": {
    "collapsed": true
   },
   "outputs": [],
   "source": [
    "g = nx.DiGraph()\n",
    "g.add_edges_from(crawler.edges)\n",
    "ranks = nx.pagerank(g)"
   ]
  },
  {
   "cell_type": "code",
   "execution_count": 31,
   "metadata": {
    "collapsed": true
   },
   "outputs": [],
   "source": [
    "auth = tweepy.OAuthHandler(config.consumer_key, config.consumer_secret)\n",
    "auth.set_access_token(config.access_token_key, config.access_token_secret)\n",
    "api = tweepy.API(auth)"
   ]
  },
  {
   "cell_type": "code",
   "execution_count": 32,
   "metadata": {},
   "outputs": [
    {
     "name": "stdout",
     "output_type": "stream",
     "text": [
      "ylecun\n"
     ]
    },
    {
     "data": {
      "text/html": [
       "<img src=\"http://pbs.twimg.com/profile_images/2387565623/7gew8nz1z7ik1ch148so_normal.jpeg\"/>"
      ],
      "text/plain": [
       "<IPython.core.display.Image object>"
      ]
     },
     "metadata": {},
     "output_type": "display_data"
    },
    {
     "name": "stdout",
     "output_type": "stream",
     "text": [
      "hugo_larochelle\n"
     ]
    },
    {
     "data": {
      "text/html": [
       "<img src=\"http://pbs.twimg.com/profile_images/690922518450999299/P_ysEBaS_normal.png\"/>"
      ],
      "text/plain": [
       "<IPython.core.display.Image object>"
      ]
     },
     "metadata": {},
     "output_type": "display_data"
    },
    {
     "name": "stdout",
     "output_type": "stream",
     "text": [
      "OriolVinyalsML\n"
     ]
    },
    {
     "data": {
      "text/html": [
       "<img src=\"http://pbs.twimg.com/profile_images/677499217993007104/Uartsv8s_normal.jpg\"/>"
      ],
      "text/plain": [
       "<IPython.core.display.Image object>"
      ]
     },
     "metadata": {},
     "output_type": "display_data"
    },
    {
     "name": "stdout",
     "output_type": "stream",
     "text": [
      "NandoDF\n"
     ]
    },
    {
     "data": {
      "text/html": [
       "<img src=\"http://pbs.twimg.com/profile_images/1532482636/DSC_0549_037_normal.JPG\"/>"
      ],
      "text/plain": [
       "<IPython.core.display.Image object>"
      ]
     },
     "metadata": {},
     "output_type": "display_data"
    },
    {
     "name": "stdout",
     "output_type": "stream",
     "text": [
      "karpathy\n"
     ]
    },
    {
     "data": {
      "text/html": [
       "<img src=\"http://pbs.twimg.com/profile_images/854602516809383936/XTMpdxaZ_normal.jpg\"/>"
      ],
      "text/plain": [
       "<IPython.core.display.Image object>"
      ]
     },
     "metadata": {},
     "output_type": "display_data"
    },
    {
     "name": "stdout",
     "output_type": "stream",
     "text": [
      "earnmyturns\n"
     ]
    },
    {
     "data": {
      "text/html": [
       "<img src=\"http://pbs.twimg.com/profile_images/1134921206/inChillan_normal.jpg\"/>"
      ],
      "text/plain": [
       "<IPython.core.display.Image object>"
      ]
     },
     "metadata": {},
     "output_type": "display_data"
    },
    {
     "name": "stdout",
     "output_type": "stream",
     "text": [
      "shakir_za\n"
     ]
    },
    {
     "data": {
      "text/html": [
       "<img src=\"http://pbs.twimg.com/profile_images/628652532596899840/b6pO4PSU_normal.jpg\"/>"
      ],
      "text/plain": [
       "<IPython.core.display.Image object>"
      ]
     },
     "metadata": {},
     "output_type": "display_data"
    },
    {
     "name": "stdout",
     "output_type": "stream",
     "text": [
      "drfeifei\n"
     ]
    },
    {
     "data": {
      "text/html": [
       "<img src=\"http://pbs.twimg.com/profile_images/841385099799085056/R1iX4QGX_normal.jpg\"/>"
      ],
      "text/plain": [
       "<IPython.core.display.Image object>"
      ]
     },
     "metadata": {},
     "output_type": "display_data"
    },
    {
     "name": "stdout",
     "output_type": "stream",
     "text": [
      "AndrewYNg\n"
     ]
    },
    {
     "data": {
      "text/html": [
       "<img src=\"http://pbs.twimg.com/profile_images/733174243714682880/oyG30NEH_normal.jpg\"/>"
      ],
      "text/plain": [
       "<IPython.core.display.Image object>"
      ]
     },
     "metadata": {},
     "output_type": "display_data"
    },
    {
     "name": "stdout",
     "output_type": "stream",
     "text": [
      "tensorflow\n"
     ]
    },
    {
     "data": {
      "text/html": [
       "<img src=\"http://pbs.twimg.com/profile_images/773317101012586496/q8sc1KuZ_normal.jpg\"/>"
      ],
      "text/plain": [
       "<IPython.core.display.Image object>"
      ]
     },
     "metadata": {},
     "output_type": "display_data"
    }
   ],
   "source": [
    "for user_id in sorted(ranks, key=ranks.get, reverse=True)[:10]:\n",
    "    status = api.get_user(user_id)\n",
    "    print(status.screen_name)\n",
    "    img = IPython.display.Image(url=status.profile_image_url)\n",
    "    IPython.display.display(img)"
   ]
  },
  {
   "cell_type": "code",
   "execution_count": 33,
   "metadata": {
    "collapsed": true
   },
   "outputs": [],
   "source": [
    "with open('data/edges_en.bin', 'wb') as fp:\n",
    "    fp.write(pickle.dumps(crawler.edges))\n",
    "\n",
    "with open('data/visited_en.bin', 'wb') as fp:\n",
    "    fp.write(pickle.dumps(crawler.visited))\n",
    "\n",
    "with open('data/crawl_frontier_en.bin', 'wb') as fp:\n",
    "    fp.write(pickle.dumps(crawler.crawl_frontier))"
   ]
  },
  {
   "cell_type": "code",
   "execution_count": null,
   "metadata": {},
   "outputs": [],
   "source": [
    "IPython.display.Audio(url='http://soundeffect-lab.info/sound/button/mp3/decision8.mp3', autoplay=True)"
   ]
  },
  {
   "cell_type": "code",
   "execution_count": null,
   "metadata": {
    "collapsed": true
   },
   "outputs": [],
   "source": []
  }
 ],
 "metadata": {
  "kernelspec": {
   "display_name": "py36",
   "language": "python",
   "name": "py36"
  },
  "language_info": {
   "codemirror_mode": {
    "name": "ipython",
    "version": 3
   },
   "file_extension": ".py",
   "mimetype": "text/x-python",
   "name": "python",
   "nbconvert_exporter": "python",
   "pygments_lexer": "ipython3",
   "version": "3.6.1"
  }
 },
 "nbformat": 4,
 "nbformat_minor": 1
}
